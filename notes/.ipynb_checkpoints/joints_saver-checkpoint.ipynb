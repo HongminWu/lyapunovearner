{
 "cells": [
  {
   "cell_type": "code",
   "execution_count": 2,
   "metadata": {},
   "outputs": [],
   "source": [
    "import numpy as np\n",
    "import logging \n",
    "import sys, time\n",
    "import os\n",
    "import h5py\n",
    "sys.path.append('/Users/lekan/catkin_ws/src/dp_planning/scripts')\n",
    "\n",
    "logger = logging.getLogger(__name__)"
   ]
  },
  {
   "cell_type": "code",
   "execution_count": 2,
   "metadata": {},
   "outputs": [],
   "source": [
    "with open('../scripts/moplan_data.csv', 'r+') as f:\n",
    "    data = f.readlines()\n",
    "moplan_data = [x.split() for x in data]    "
   ]
  },
  {
   "cell_type": "code",
   "execution_count": 3,
   "metadata": {},
   "outputs": [
    {
     "name": "stdout",
     "output_type": "stream",
     "text": [
      "(21, 14)\n"
     ]
    }
   ],
   "source": [
    "proper_data = []\n",
    "for i in range(len(moplan_data)):\n",
    "    if not moplan_data[i]:\n",
    "        continue\n",
    "    temp = moplan_data[i]\n",
    "    to_append = []\n",
    "    temp = [x.split(sep=',')[0] for x in temp]\n",
    "    #print(temp)\n",
    "    for x in temp:\n",
    "        if '[' in x:\n",
    "            x = x.split(sep=\"[\")[1]\n",
    "        elif ']' in x:\n",
    "            x = x.split(sep=']')[0]\n",
    "        to_append.append(float(x))\n",
    "    proper_data.append(to_append)\n",
    "\n",
    "proper_data = np.array(proper_data)\n",
    "print(proper_data.shape)"
   ]
  },
  {
   "cell_type": "code",
   "execution_count": 4,
   "metadata": {},
   "outputs": [],
   "source": [
    "joint_workspace = dict(pts1=dict(q=[], qdot=[]), pts2=dict(q=[], qdot=[]), pts3=dict(q=[], qdot=[]))"
   ]
  },
  {
   "cell_type": "code",
   "execution_count": 5,
   "metadata": {},
   "outputs": [],
   "source": [
    "joint_workspace['pts1']['q'] = proper_data[slice(0, 21, 3), slice(0, 7)]\n",
    "joint_workspace['pts1']['qdot'] = proper_data[slice(0, 21, 3), slice(7, 14)]\n",
    "joint_workspace['pts2']['q'] = proper_data[slice(1, 21, 3), slice(0, 7)]\n",
    "joint_workspace['pts2']['qdot'] = proper_data[slice(1, 21, 3), slice(7, 14)]\n",
    "joint_workspace['pts3']['q'] = proper_data[slice(2, 21, 3), slice(0, 7)]\n",
    "joint_workspace['pts3']['qdot'] = proper_data[slice(2, 21, 3), slice(7, 14)]"
   ]
  },
  {
   "cell_type": "code",
   "execution_count": 15,
   "metadata": {},
   "outputs": [],
   "source": [
    "qs = np.vstack([joint_workspace['pts1']['q'], joint_workspace['pts2']['q']])\n",
    "qdots = np.vstack([joint_workspace['pts1']['qdot'], joint_workspace['pts2']['qdot']])"
   ]
  },
  {
   "cell_type": "code",
   "execution_count": 16,
   "metadata": {},
   "outputs": [
    {
     "name": "stdout",
     "output_type": "stream",
     "text": [
      "(14, 7)\n"
     ]
    }
   ],
   "source": [
    "# print(joint_workspace['pts1']['q'])\n",
    "# print()\n",
    "# print(joint_workspace['pts2']['q'])\n",
    "# print()\n",
    "# print(joint_workspace['pts3']['q'])\n",
    "\n",
    "np.set_printoptions(precision=4)\n",
    "# qs = np.hstack([joint_workspace['pts1']['q'], joint_workspace['pts2']['q']])\n",
    "print(qs.shape)"
   ]
  },
  {
   "cell_type": "markdown",
   "metadata": {},
   "source": [
    "### sanity check"
   ]
  },
  {
   "cell_type": "code",
   "execution_count": 52,
   "metadata": {},
   "outputs": [],
   "source": [
    "### save the data we have collected\n",
    "filename = '../scripts/{}.h5'.format('joints_data')\n",
    "os.remove(filename) if os.path.isfile(filename) else None\n",
    "time.sleep(4)\n",
    "with h5py.File(filename, 'w') as f:\n",
    "    pos_grp = f.create_group('workspace_coords')\n",
    "    pos_grp.create_dataset(\"joint_positions\", data=qs, dtype=np.float32, compression=\"gzip\", compression_opts=9)\n",
    "    pos_grp.create_dataset(\"joint_velocities\", data=qdots,  dtype=np.float32, compression=\"gzip\", compression_opts=9)\n",
    "    targ_grp = f.create_group('workspace_targets')\n",
    "    targ_grp.create_dataset(\"joint_positions\", data=joint_workspace['pts3']['q'],  dtype=np.float32, compression=\"gzip\", compression_opts=9)\n",
    "    targ_grp.create_dataset(\"joint_velocities\", data=joint_workspace['pts3']['qdot'],  dtype=np.float32, compression=\"gzip\", compression_opts=9)\n",
    "    "
   ]
  },
  {
   "cell_type": "code",
   "execution_count": 4,
   "metadata": {},
   "outputs": [
    {
     "name": "stdout",
     "output_type": "stream",
     "text": [
      "[[0. 1. 2. 3. 4. 5. 6.]\n",
      " [0. 1. 2. 3. 4. 5. 6.]\n",
      " [0. 1. 2. 3. 4. 5. 6.]\n",
      " [0. 1. 2. 3. 4. 5. 6.]]\n"
     ]
    }
   ],
   "source": [
    "a = np.random.randn(4, 7)\n",
    "for i in range(7):\n",
    "    a[:, i] = i\n",
    "    \n",
    "print(a)"
   ]
  },
  {
   "cell_type": "code",
   "execution_count": 7,
   "metadata": {},
   "outputs": [
    {
     "ename": "TypeError",
     "evalue": "'numpy.float64' object is not iterable",
     "output_type": "error",
     "traceback": [
      "\u001b[0;31m---------------------------------------------------------------------------\u001b[0m",
      "\u001b[0;31mTypeError\u001b[0m                                 Traceback (most recent call last)",
      "\u001b[0;32m<ipython-input-7-51917a2315ae>\u001b[0m in \u001b[0;36m<module>\u001b[0;34m()\u001b[0m\n\u001b[1;32m      1\u001b[0m \u001b[0;32mfor\u001b[0m \u001b[0mi\u001b[0m \u001b[0;32min\u001b[0m \u001b[0mrange\u001b[0m\u001b[0;34m(\u001b[0m\u001b[0;36m7\u001b[0m\u001b[0;34m)\u001b[0m\u001b[0;34m:\u001b[0m\u001b[0;34m\u001b[0m\u001b[0m\n\u001b[0;32m----> 2\u001b[0;31m     \u001b[0;32mfor\u001b[0m \u001b[0;34m(\u001b[0m\u001b[0mx\u001b[0m\u001b[0;34m,\u001b[0m \u001b[0my\u001b[0m\u001b[0;34m,\u001b[0m \u001b[0mxd\u001b[0m\u001b[0;34m,\u001b[0m \u001b[0myd\u001b[0m\u001b[0;34m)\u001b[0m \u001b[0;32min\u001b[0m \u001b[0;34m(\u001b[0m\u001b[0ma\u001b[0m\u001b[0;34m[\u001b[0m\u001b[0;34m:\u001b[0m\u001b[0;34m,\u001b[0m\u001b[0mi\u001b[0m\u001b[0;34m]\u001b[0m\u001b[0;34m)\u001b[0m\u001b[0;34m:\u001b[0m\u001b[0;34m\u001b[0m\u001b[0m\n\u001b[0m\u001b[1;32m      3\u001b[0m         \u001b[0mprint\u001b[0m\u001b[0;34m(\u001b[0m\u001b[0mx\u001b[0m\u001b[0;34m,\u001b[0m \u001b[0my\u001b[0m\u001b[0;34m)\u001b[0m\u001b[0;34m\u001b[0m\u001b[0m\n",
      "\u001b[0;31mTypeError\u001b[0m: 'numpy.float64' object is not iterable"
     ]
    }
   ],
   "source": [
    "for i in range(7):\n",
    "    for (x, y, xd, yd) in (a[:,i]):\n",
    "        print(x, y)"
   ]
  },
  {
   "cell_type": "code",
   "execution_count": null,
   "metadata": {},
   "outputs": [],
   "source": []
  }
 ],
 "metadata": {
  "kernelspec": {
   "display_name": "Python 3",
   "language": "python",
   "name": "python3"
  },
  "language_info": {
   "codemirror_mode": {
    "name": "ipython",
    "version": 3
   },
   "file_extension": ".py",
   "mimetype": "text/x-python",
   "name": "python",
   "nbconvert_exporter": "python",
   "pygments_lexer": "ipython3",
   "version": "3.5.5"
  }
 },
 "nbformat": 4,
 "nbformat_minor": 2
}
