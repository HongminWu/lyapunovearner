{
 "cells": [
  {
   "cell_type": "code",
   "execution_count": 1,
   "metadata": {},
   "outputs": [],
   "source": [
    "import numpy as np\n",
    "import logging \n",
    "import sys\n",
    "import os\n",
    "import h5py\n",
    "import math\n",
    "from math import radians, cos, sin\n",
    "\n",
    "logger = logging.getLogger(__name__)\n",
    "disp=False"
   ]
  },
  {
   "cell_type": "code",
   "execution_count": 3,
   "metadata": {},
   "outputs": [],
   "source": [
    "### read the data we have collected\n",
    "with h5py.File('../scripts/{}.h5'.format('joints_data'), 'r+') as f:\n",
    "    pos_grp = f['workspace_coords']\n",
    "    q       = pos_grp['joint_positions'].value\n",
    "    qdot    = pos_grp['joint_velocities'].value\n",
    "    targ_grp = f['workspace_targets']\n",
    "    qstar   = targ_grp['joint_positions'].value\n",
    "    qdot_star= targ_grp['joint_velocities'].value"
   ]
  },
  {
   "cell_type": "code",
   "execution_count": 4,
   "metadata": {},
   "outputs": [],
   "source": [
    "q1 = q[0:7,:]\n",
    "q2 = q[7:14,:]\n",
    "q1dot = qdot[0:7,:]\n",
    "q2dot = qdot[7:14,:]\n",
    "pts = dict(pts1=dict(q=q1, qdot=q1dot),pts2=dict(q=q2, qdot=q2dot),targets=dict(q=qstar, qdot=qdot_star),)"
   ]
  },
  {
   "cell_type": "code",
   "execution_count": 5,
   "metadata": {},
   "outputs": [],
   "source": [
    "np.set_printoptions(suppress=True)\n",
    "\n",
    "if disp:\n",
    "    print(pts)"
   ]
  },
  {
   "cell_type": "markdown",
   "metadata": {},
   "source": [
    "### convert from joint space to cartesian coordinates in the end effector/tool frame"
   ]
  },
  {
   "cell_type": "code",
   "execution_count": 6,
   "metadata": {},
   "outputs": [],
   "source": [
    "#### defining D-H constants\n",
    "\"\"\"lc, lf are in millimeters\"\"\"\n",
    "lc, lf = 300, 350\n",
    "\n",
    "pts_cartesian = {\n",
    "    'pts1': {\n",
    "        'x': None, 'y': None, 'z': None\n",
    "    },\n",
    "    'pts2': {\n",
    "        'x': None, 'y': None, 'z': None\n",
    "    },\n",
    "    'targets': {\n",
    "        'x': None, 'y': None, 'z': None\n",
    "    }\n",
    "}"
   ]
  },
  {
   "cell_type": "code",
   "execution_count": 7,
   "metadata": {},
   "outputs": [
    {
     "name": "stdout",
     "output_type": "stream",
     "text": [
      "{'pts2': {'x': array([-172.77984302, -173.39091583, -174.50107661, -171.85472673,\n",
      "       -170.65905336, -171.41063798, -173.40882604]), 'z': array([-106.73732362, -106.51081301, -106.36132447, -107.48899256,\n",
      "       -107.96971248, -106.2068992 , -106.94670543]), 'y': array([ 0.8639064 , -0.86696178, -0.        , -0.68742261,  0.5119787 ,\n",
      "       -1.02847618,  0.69363904])}, 'pts1': {'x': array([-49.57987866, -49.6521089 , -49.59910691, -49.5689357 ,\n",
      "       -49.37481832, -49.62820163, -49.57582324]), 'z': array([-357.5697745 , -356.17937663, -356.12637421, -357.85024607,\n",
      "       -359.68896819, -357.32602799, -356.68913288]), 'y': array([ 0.14874008,  0.1986095 ,  0.1983975 , -0.        ,  0.04937484,\n",
      "        0.09925654,  0.19830436])}, 'targets': {'x': array([-1.39460314, -0.63601513, -1.19684701, -2.72545014, -0.90140816,\n",
      "       -0.96777436, -2.14651662]), 'z': array([-13.08781423,  -3.84561069, -11.61802867,  -8.48034085,\n",
      "        -5.80786155,  -6.29864491,  -9.59849907]), 'y': array([ 0.00278921, -0.0031801 , -0.00957498, -0.0163529 , -0.00450708,\n",
      "       -0.00677453,  0.00643957])}}\n"
     ]
    }
   ],
   "source": [
    "way_pts = [k for k, v in pts.items()]\n",
    "for way_pt in way_pts:\n",
    "    px_l = [cos(x) for x in pts[way_pt]['q'][:,0]]\n",
    "    px_r1 = [lc*cos(x) for x in  pts[way_pt]['q'][:,1]]\n",
    "    px_r2 = [lf*cos(x+y) for x,y in  zip(pts[way_pt]['q'][:,1], pts[way_pt]['q'][:,2])]\n",
    "    px_r = np.array(px_r1) - px_r2\n",
    "    pts_cartesian[way_pt]['x'] = np.array(px_l) * np.array(px_r)\n",
    "\n",
    "    py_l = [sin(x) for x in pts[way_pt]['q'][:,0]]\n",
    "    pts_cartesian[way_pt]['y'] = np.array(py_l) * np.array(px_r)\n",
    "\n",
    "    pz_l = [-lc * sin(x) for x in pts[way_pt]['q'][:,1]]\n",
    "    pz_r = [lf * cos(x+y) for x, y in zip(pts[way_pt]['q'][:,1], pts[way_pt]['q'][:,2])]\n",
    "    pts_cartesian[way_pt]['z'] = np.array(pz_l) - np.array(pz_r)\n",
    "print(pts_cartesian)"
   ]
  },
  {
   "cell_type": "markdown",
   "metadata": {},
   "source": [
    "#### gather all the cartesian points and velocities\n",
    "+ data is thus arranged:\n",
    "  - data = [\\zeta^0, \\zeta^1, \\zeta^\\star]\n",
    "  - where \\zeta \\in R^n, n being the dimension in cartesian coordinates of the "
   ]
  },
  {
   "cell_type": "code",
   "execution_count": 16,
   "metadata": {},
   "outputs": [],
   "source": [
    "x = np.hstack([pts_cartesian['pts1']['x'], pts_cartesian['pts2']['x'], pts_cartesian['targets']['x']])\n",
    "y = np.hstack([pts_cartesian['pts1']['y'], pts_cartesian['pts2']['y'], pts_cartesian['targets']['y']])\n",
    "z = np.hstack([pts_cartesian['pts1']['z'], pts_cartesian['pts2']['z'], pts_cartesian['targets']['z']])"
   ]
  },
  {
   "cell_type": "code",
   "execution_count": 18,
   "metadata": {},
   "outputs": [
    {
     "name": "stdout",
     "output_type": "stream",
     "text": [
      "(3, 21)\n"
     ]
    }
   ],
   "source": [
    "# x.shape, y.shape, z.shape\n",
    "data = np.vstack([x,y,z])\n",
    "print(data.shape)"
   ]
  },
  {
   "cell_type": "code",
   "execution_count": null,
   "metadata": {},
   "outputs": [],
   "source": []
  }
 ],
 "metadata": {
  "kernelspec": {
   "display_name": "Python 3",
   "language": "python",
   "name": "python3"
  },
  "language_info": {
   "codemirror_mode": {
    "name": "ipython",
    "version": 3
   },
   "file_extension": ".py",
   "mimetype": "text/x-python",
   "name": "python",
   "nbconvert_exporter": "python",
   "pygments_lexer": "ipython3",
   "version": "3.5.5"
  }
 },
 "nbformat": 4,
 "nbformat_minor": 2
}
