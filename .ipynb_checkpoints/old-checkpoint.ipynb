{
 "cells": [
  {
   "cell_type": "code",
   "execution_count": 17,
   "metadata": {
    "collapsed": false
   },
   "outputs": [
    {
     "name": "stdout",
     "output_type": "stream",
     "text": [
      "     pcost       dcost       gap    pres   dres\n",
      " 0:  0.0000e+00 -1.1600e+02  5e+00  1e+00  1e+00\n",
      " 1:  6.1083e-03 -3.2919e+01  4e+00  1e+00  1e+00\n",
      " 2:  6.5547e-02 -1.3272e+01  3e+00  9e-01  9e-01\n",
      " 3:  4.5177e-01 -5.8044e-01  2e+00  6e-01  7e-01\n",
      " 4:  5.8869e-01  9.1517e-01  1e+00  5e-01  5e-01\n",
      " 5:  9.4434e-01  2.4680e+00  1e+00  4e-01  6e-01\n",
      " 6:  8.2046e-01  1.3892e+00  1e+00  3e-01  4e-01\n",
      " 7:  8.5287e-01  1.4594e+00  4e-01  1e-01  2e-01\n",
      " 8:  1.0036e+00  1.4560e+00  4e-01  1e-01  2e-01\n",
      " 9:  1.1380e+00  1.2097e+00  1e-01  8e-03  3e-02\n",
      "10:  1.2575e+00  1.2716e+00  3e-02  1e-03  8e-03\n",
      "11:  1.2837e+00  1.2841e+00  1e-02  4e-04  2e-03\n",
      "12:  1.2896e+00  1.2896e+00  2e-03  5e-05  8e-04\n",
      "13:  1.2899e+00  1.2898e+00  1e-03  4e-05  6e-04\n",
      "14:  1.2905e+00  1.2904e+00  3e-04  7e-06  3e-04\n",
      "15:  1.2905e+00  1.2905e+00  3e-04  6e-06  2e-04\n",
      "16:  1.2906e+00  1.2906e+00  5e-05  1e-06  8e-05\n",
      "17:  1.2906e+00  1.2906e+00  5e-05  8e-07  7e-05\n",
      "18:  1.2906e+00  1.2906e+00  1e-05  2e-07  3e-05\n",
      "19:  1.2906e+00  1.2906e+00  1e-05  1e-07  1e-05\n",
      "20:  1.2906e+00  1.2906e+00  3e-06  3e-08  7e-06\n",
      "21:  1.2906e+00  1.2906e+00  2e-06  2e-08  8e-06\n",
      "22:  1.2906e+00  1.2906e+00  7e-07  7e-09  3e-06\n",
      "23:  1.2906e+00  1.2906e+00  6e-07  5e-09  1e-06\n",
      "24:  1.2906e+00  1.2906e+00  2e-07  1e-09  7e-07\n",
      "25:  1.2906e+00  1.2906e+00  2e-07  1e-09  1e-06\n",
      "26:  1.2906e+00  1.2906e+00  6e-08  3e-10  5e-07\n",
      "27:  1.2906e+00  1.2906e+00  5e-08  2e-10  1e-07\n",
      "28:  1.2906e+00  1.2906e+00  2e-08  7e-11  9e-08\n",
      "Optimal solution found.\n",
      "(13, 3) (13, 1)\n"
     ]
    }
   ],
   "source": [
    "from cvxopt import matrix, log, div, spdiag, solvers\n",
    "\n",
    "def F(x = None, z = None):\n",
    "     if x is None:  return 0, matrix(0.0, (3,1))\n",
    "     if max(abs(x)) >= 1.0:  return None\n",
    "     u = 1 - x**2\n",
    "     val = -sum(log(u))\n",
    "     Df = div(2*x, u).T\n",
    "     if z is None:  return val, Df\n",
    "     #print('z: ', z)\n",
    "     H = spdiag(2 * z[0] * div(1 + u**2, u**2))\n",
    "     return val, Df, H\n",
    "\n",
    "G = matrix([ [0., -1.,  0.,  0., -21., -11.,   0., -11.,  10.,   8.,   0.,   8., 5.],\n",
    "             [0.,  0., -1.,  0.,   0.,  10.,  16.,  10., -10., -10.,  16., -10., 3.],\n",
    "             [0.,  0.,  0., -1.,  -5.,   2., -17.,   2.,  -6.,   8., -17.,  -7., 6.] ])\n",
    "h = matrix([1.0, 0.0, 0.0, 0.0, 20., 10., 40., 10., 80., 10., 40., 10., 15.])\n",
    "dims = {'l': 0, 'q': [4], 's':  [3]}\n",
    "sol = solvers.cp(F, G, h, dims)\n",
    "print(G.size, h.size)\n",
    "# print(sol['x'])"
   ]
  },
  {
   "cell_type": "code",
   "execution_count": 20,
   "metadata": {
    "collapsed": false
   },
   "outputs": [
    {
     "name": "stdout",
     "output_type": "stream",
     "text": [
      "(26, 22)\n"
     ]
    }
   ],
   "source": [
    "c = matrix(2*[1.0] + 20*[0.0])\n",
    "G = matrix(0.0, (26,22))\n",
    "print(G.size)\n",
    "    "
   ]
  },
  {
   "cell_type": "code",
   "execution_count": 25,
   "metadata": {
    "collapsed": false
   },
   "outputs": [
    {
     "name": "stdout",
     "output_type": "stream",
     "text": [
      "[[ 1.  0.  0.  0.]\n",
      " [ 0.  1.  0.  0.]\n",
      " [ 0.  0.  1.  0.]\n",
      " [ 0.  0.  0.  1.]]\n",
      "[ 1.00e+00  0.00e+00  0.00e+00  0.00e+00]\n",
      "[ 0.00e+00  1.00e+00  0.00e+00  0.00e+00]\n",
      "[ 0.00e+00  0.00e+00  1.00e+00  0.00e+00]\n",
      "[ 0.00e+00  0.00e+00  0.00e+00  1.00e+00]\n",
      "\n"
     ]
    },
    {
     "data": {
      "text/plain": [
       "array([[ 1.,  0.,  0.,  0.,  1.,  0.,  0.,  0.],\n",
       "       [ 0.,  1.,  0.,  0.,  0.,  1.,  0.,  0.],\n",
       "       [ 0.,  0.,  1.,  0.,  0.,  0.,  1.,  0.],\n",
       "       [ 0.,  0.,  0.,  1.,  0.,  0.,  0.,  1.]])"
      ]
     },
     "execution_count": 25,
     "metadata": {},
     "output_type": "execute_result"
    }
   ],
   "source": [
    "h = matrix(0, (4,1))\n",
    "P = np.eye(4,4)\n",
    "print(P)\n",
    "Pm = matrix(P)\n",
    "print(Pm)\n",
    "Q = P\n",
    "R = np.hstack((P, Q))\n",
    "R"
   ]
  },
  {
   "cell_type": "code",
   "execution_count": 49,
   "metadata": {
    "collapsed": false
   },
   "outputs": [
    {
     "data": {
      "text/plain": [
       "[1, 2, 3, 4]"
      ]
     },
     "execution_count": 49,
     "metadata": {},
     "output_type": "execute_result"
    }
   ],
   "source": [
    "list(range(1,5))"
   ]
  },
  {
   "cell_type": "code",
   "execution_count": 52,
   "metadata": {
    "collapsed": false
   },
   "outputs": [
    {
     "name": "stdout",
     "output_type": "stream",
     "text": [
      "[0, 1, 2, 3]\n"
     ]
    },
    {
     "ename": "IndexError",
     "evalue": "index 8 is out of bounds for axis 0 with size 8",
     "output_type": "error",
     "traceback": [
      "\u001b[0;31m---------------------------------------------------------------------------\u001b[0m",
      "\u001b[0;31mIndexError\u001b[0m                                Traceback (most recent call last)",
      "\u001b[0;32m<ipython-input-52-8f6163590817>\u001b[0m in \u001b[0;36m<module>\u001b[0;34m()\u001b[0m\n\u001b[1;32m      5\u001b[0m \u001b[0mprint\u001b[0m\u001b[0;34m(\u001b[0m\u001b[0mlist\u001b[0m\u001b[0;34m(\u001b[0m\u001b[0mrange\u001b[0m\u001b[0;34m(\u001b[0m\u001b[0md\u001b[0m\u001b[0;34m*\u001b[0m\u001b[0mL\u001b[0m\u001b[0;34m)\u001b[0m\u001b[0;34m)\u001b[0m\u001b[0;34m)\u001b[0m\u001b[0;34m\u001b[0m\u001b[0m\n\u001b[1;32m      6\u001b[0m \u001b[0mp\u001b[0m\u001b[0;34m[\u001b[0m\u001b[0;34m[\u001b[0m\u001b[0mi_c\u001b[0m\u001b[0;34m+\u001b[0m \u001b[0mx\u001b[0m \u001b[0;32mfor\u001b[0m \u001b[0mx\u001b[0m \u001b[0;32min\u001b[0m \u001b[0mrange\u001b[0m\u001b[0;34m(\u001b[0m\u001b[0md\u001b[0m\u001b[0;34m*\u001b[0m\u001b[0mL\u001b[0m\u001b[0;34m)\u001b[0m\u001b[0;34m]\u001b[0m\u001b[0;34m]\u001b[0m\u001b[0;34m\u001b[0m\u001b[0m\n\u001b[0;32m----> 7\u001b[0;31m \u001b[0mp\u001b[0m\u001b[0;34m[\u001b[0m\u001b[0mrange\u001b[0m\u001b[0;34m(\u001b[0m\u001b[0mi_c\u001b[0m\u001b[0;34m+\u001b[0m\u001b[0mk\u001b[0m\u001b[0;34m*\u001b[0m\u001b[0;34m(\u001b[0m\u001b[0md\u001b[0m\u001b[0;34m**\u001b[0m\u001b[0;36m2\u001b[0m\u001b[0;34m)\u001b[0m\u001b[0;34m,\u001b[0m\u001b[0mi_c\u001b[0m\u001b[0;34m+\u001b[0m\u001b[0;34m(\u001b[0m\u001b[0mk\u001b[0m\u001b[0;34m+\u001b[0m\u001b[0;36m1\u001b[0m\u001b[0;34m)\u001b[0m\u001b[0;34m*\u001b[0m\u001b[0;34m(\u001b[0m\u001b[0md\u001b[0m\u001b[0;34m**\u001b[0m\u001b[0;36m2\u001b[0m\u001b[0;34m)\u001b[0m\u001b[0;34m-\u001b[0m\u001b[0;36m1\u001b[0m\u001b[0;34m)\u001b[0m\u001b[0;34m]\u001b[0m\u001b[0;34m\u001b[0m\u001b[0m\n\u001b[0m",
      "\u001b[0;31mIndexError\u001b[0m: index 8 is out of bounds for axis 0 with size 8"
     ]
    }
   ],
   "source": [
    "i_c = 0\n",
    "k = 0\n",
    "d, L = 4, 1\n",
    "p = np.eye(d*2)\n",
    "print(list(range(d*L)))\n",
    "p[[i_c+ x for x in range(d*L)]]\n",
    "p[range(i_c+k*(d**2),i_c+(k+1)*(d**2)-1)]"
   ]
  },
  {
   "cell_type": "code",
   "execution_count": 61,
   "metadata": {
    "collapsed": false
   },
   "outputs": [],
   "source": [
    "lengthScaleMatrix = np.random.randn(2,2)\n",
    "tempMat = np.random.randn(2,2)\n",
    "d = lengthScaleMatrix.dot((tempMat * tempMat.T)).dot(lengthScaleMatrix)"
   ]
  },
  {
   "cell_type": "code",
   "execution_count": 66,
   "metadata": {
    "collapsed": false
   },
   "outputs": [
    {
     "name": "stdout",
     "output_type": "stream",
     "text": [
      "(2,) (2, 2, 2)\n",
      "[[[ 1.  1.]\n",
      "  [ 1.  1.]]\n",
      "\n",
      " [[ 1.  1.]\n",
      "  [ 1.  1.]]]\n"
     ]
    },
    {
     "ename": "NameError",
     "evalue": "name 'sp' is not defined",
     "output_type": "error",
     "traceback": [
      "\u001b[0;31m---------------------------------------------------------------------------\u001b[0m",
      "\u001b[0;31mNameError\u001b[0m                                 Traceback (most recent call last)",
      "\u001b[0;32m<ipython-input-66-bac6677bde8b>\u001b[0m in \u001b[0;36m<module>\u001b[0;34m()\u001b[0m\n\u001b[1;32m      4\u001b[0m \u001b[0mres\u001b[0m \u001b[0;34m=\u001b[0m \u001b[0mfir\u001b[0m \u001b[0;34m*\u001b[0m \u001b[0mls\u001b[0m\u001b[0;34m\u001b[0m\u001b[0m\n\u001b[1;32m      5\u001b[0m \u001b[0mprint\u001b[0m\u001b[0;34m(\u001b[0m\u001b[0mres\u001b[0m\u001b[0;34m)\u001b[0m\u001b[0;34m\u001b[0m\u001b[0m\n\u001b[0;32m----> 6\u001b[0;31m \u001b[0msp\u001b[0m\u001b[0;34m.\u001b[0m\u001b[0meye\u001b[0m\u001b[0;34m(\u001b[0m\u001b[0;36m4\u001b[0m\u001b[0;34m)\u001b[0m\u001b[0;34m\u001b[0m\u001b[0m\n\u001b[0m",
      "\u001b[0;31mNameError\u001b[0m: name 'sp' is not defined"
     ]
    }
   ],
   "source": [
    "ls= np.ones((2))\n",
    "fir = np.ones((2,2, 2))\n",
    "print(ls.shape, fir.shape)\n",
    "res = fir * ls\n",
    "print(res)\n",
    "sp.eye(4)"
   ]
  },
  {
   "cell_type": "code",
   "execution_count": 102,
   "metadata": {
    "collapsed": false
   },
   "outputs": [
    {
     "ename": "ValueError",
     "evalue": "all the input array dimensions except for the concatenation axis must match exactly",
     "output_type": "error",
     "traceback": [
      "\u001b[0;31m---------------------------------------------------------------------------\u001b[0m",
      "\u001b[0;31mValueError\u001b[0m                                Traceback (most recent call last)",
      "\u001b[0;32m<ipython-input-102-ec77b7e16710>\u001b[0m in \u001b[0;36m<module>\u001b[0;34m()\u001b[0m\n\u001b[1;32m      2\u001b[0m \u001b[0mAr\u001b[0m \u001b[0;34m=\u001b[0m \u001b[0mnp\u001b[0m\u001b[0;34m.\u001b[0m\u001b[0mexpand_dims\u001b[0m\u001b[0;34m(\u001b[0m\u001b[0mnp\u001b[0m\u001b[0;34m.\u001b[0m\u001b[0mravel\u001b[0m\u001b[0;34m(\u001b[0m\u001b[0mA\u001b[0m\u001b[0;34m)\u001b[0m\u001b[0;34m,\u001b[0m \u001b[0maxis\u001b[0m\u001b[0;34m=\u001b[0m\u001b[0;36m1\u001b[0m\u001b[0;34m)\u001b[0m\u001b[0;34m\u001b[0m\u001b[0m\n\u001b[1;32m      3\u001b[0m \u001b[0mAf\u001b[0m \u001b[0;34m=\u001b[0m \u001b[0mA\u001b[0m\u001b[0;34m.\u001b[0m\u001b[0mflatten\u001b[0m\u001b[0;34m(\u001b[0m\u001b[0;34m'C'\u001b[0m\u001b[0;34m)\u001b[0m\u001b[0;34m\u001b[0m\u001b[0m\n\u001b[0;32m----> 4\u001b[0;31m \u001b[0mc\u001b[0m \u001b[0;34m=\u001b[0m \u001b[0mnp\u001b[0m\u001b[0;34m.\u001b[0m\u001b[0mc_\u001b[0m\u001b[0;34m[\u001b[0m\u001b[0mA\u001b[0m\u001b[0;34m.\u001b[0m\u001b[0mflatten\u001b[0m\u001b[0;34m(\u001b[0m\u001b[0;34m)\u001b[0m\u001b[0;34m,\u001b[0m \u001b[0;34m[\u001b[0m\u001b[0;36m5\u001b[0m\u001b[0;34m,\u001b[0m \u001b[0;36m6\u001b[0m\u001b[0;34m]\u001b[0m\u001b[0;34m,\u001b[0m \u001b[0mAf\u001b[0m\u001b[0;34m]\u001b[0m\u001b[0;34m\u001b[0m\u001b[0m\n\u001b[0m\u001b[1;32m      5\u001b[0m \u001b[0mprint\u001b[0m\u001b[0;34m(\u001b[0m\u001b[0mc\u001b[0m\u001b[0;34m)\u001b[0m\u001b[0;34m\u001b[0m\u001b[0m\n",
      "\u001b[0;32m/home/lex/anaconda3/lib/python3.6/site-packages/numpy/lib/index_tricks.py\u001b[0m in \u001b[0;36m__getitem__\u001b[0;34m(self, key)\u001b[0m\n\u001b[1;32m    336\u001b[0m                 \u001b[0mobjs\u001b[0m\u001b[0;34m[\u001b[0m\u001b[0mk\u001b[0m\u001b[0;34m]\u001b[0m \u001b[0;34m=\u001b[0m \u001b[0mobjs\u001b[0m\u001b[0;34m[\u001b[0m\u001b[0mk\u001b[0m\u001b[0;34m]\u001b[0m\u001b[0;34m.\u001b[0m\u001b[0mastype\u001b[0m\u001b[0;34m(\u001b[0m\u001b[0mfinal_dtype\u001b[0m\u001b[0;34m)\u001b[0m\u001b[0;34m\u001b[0m\u001b[0m\n\u001b[1;32m    337\u001b[0m \u001b[0;34m\u001b[0m\u001b[0m\n\u001b[0;32m--> 338\u001b[0;31m         \u001b[0mres\u001b[0m \u001b[0;34m=\u001b[0m \u001b[0m_nx\u001b[0m\u001b[0;34m.\u001b[0m\u001b[0mconcatenate\u001b[0m\u001b[0;34m(\u001b[0m\u001b[0mtuple\u001b[0m\u001b[0;34m(\u001b[0m\u001b[0mobjs\u001b[0m\u001b[0;34m)\u001b[0m\u001b[0;34m,\u001b[0m \u001b[0maxis\u001b[0m\u001b[0;34m=\u001b[0m\u001b[0mself\u001b[0m\u001b[0;34m.\u001b[0m\u001b[0maxis\u001b[0m\u001b[0;34m)\u001b[0m\u001b[0;34m\u001b[0m\u001b[0m\n\u001b[0m\u001b[1;32m    339\u001b[0m         \u001b[0;32mreturn\u001b[0m \u001b[0mself\u001b[0m\u001b[0;34m.\u001b[0m\u001b[0m_retval\u001b[0m\u001b[0;34m(\u001b[0m\u001b[0mres\u001b[0m\u001b[0;34m)\u001b[0m\u001b[0;34m\u001b[0m\u001b[0m\n\u001b[1;32m    340\u001b[0m \u001b[0;34m\u001b[0m\u001b[0m\n",
      "\u001b[0;31mValueError\u001b[0m: all the input array dimensions except for the concatenation axis must match exactly"
     ]
    }
   ],
   "source": [
    "A = np.ones((2,2))\n",
    "Ar = np.expand_dims(np.ravel(A), axis=1)\n",
    "Af = A.flatten('C')\n",
    "c = np.c_[A.flatten(), [5, 6], Af]\n",
    "print(c)"
   ]
  },
  {
   "cell_type": "code",
   "execution_count": 95,
   "metadata": {
    "collapsed": false
   },
   "outputs": [
    {
     "name": "stdout",
     "output_type": "stream",
     "text": [
      "Help on RClass in module numpy.lib.index_tricks object:\n",
      "\n",
      "class RClass(AxisConcatenator)\n",
      " |  Translates slice objects to concatenation along the first axis.\n",
      " |  \n",
      " |  This is a simple way to build up arrays quickly. There are two use cases.\n",
      " |  \n",
      " |  1. If the index expression contains comma separated arrays, then stack\n",
      " |     them along their first axis.\n",
      " |  2. If the index expression contains slice notation or scalars then create\n",
      " |     a 1-D array with a range indicated by the slice notation.\n",
      " |  \n",
      " |  If slice notation is used, the syntax ``start:stop:step`` is equivalent\n",
      " |  to ``np.arange(start, stop, step)`` inside of the brackets. However, if\n",
      " |  ``step`` is an imaginary number (i.e. 100j) then its integer portion is\n",
      " |  interpreted as a number-of-points desired and the start and stop are\n",
      " |  inclusive. In other words ``start:stop:stepj`` is interpreted as\n",
      " |  ``np.linspace(start, stop, step, endpoint=1)`` inside of the brackets.\n",
      " |  After expansion of slice notation, all comma separated sequences are\n",
      " |  concatenated together.\n",
      " |  \n",
      " |  Optional character strings placed as the first element of the index\n",
      " |  expression can be used to change the output. The strings 'r' or 'c' result\n",
      " |  in matrix output. If the result is 1-D and 'r' is specified a 1 x N (row)\n",
      " |  matrix is produced. If the result is 1-D and 'c' is specified, then a N x 1\n",
      " |  (column) matrix is produced. If the result is 2-D then both provide the\n",
      " |  same matrix result.\n",
      " |  \n",
      " |  A string integer specifies which axis to stack multiple comma separated\n",
      " |  arrays along. A string of two comma-separated integers allows indication\n",
      " |  of the minimum number of dimensions to force each entry into as the\n",
      " |  second integer (the axis to concatenate along is still the first integer).\n",
      " |  \n",
      " |  A string with three comma-separated integers allows specification of the\n",
      " |  axis to concatenate along, the minimum number of dimensions to force the\n",
      " |  entries to, and which axis should contain the start of the arrays which\n",
      " |  are less than the specified number of dimensions. In other words the third\n",
      " |  integer allows you to specify where the 1's should be placed in the shape\n",
      " |  of the arrays that have their shapes upgraded. By default, they are placed\n",
      " |  in the front of the shape tuple. The third argument allows you to specify\n",
      " |  where the start of the array should be instead. Thus, a third argument of\n",
      " |  '0' would place the 1's at the end of the array shape. Negative integers\n",
      " |  specify where in the new shape tuple the last dimension of upgraded arrays\n",
      " |  should be placed, so the default is '-1'.\n",
      " |  \n",
      " |  Parameters\n",
      " |  ----------\n",
      " |  Not a function, so takes no parameters\n",
      " |  \n",
      " |  \n",
      " |  Returns\n",
      " |  -------\n",
      " |  A concatenated ndarray or matrix.\n",
      " |  \n",
      " |  See Also\n",
      " |  --------\n",
      " |  concatenate : Join a sequence of arrays along an existing axis.\n",
      " |  c_ : Translates slice objects to concatenation along the second axis.\n",
      " |  \n",
      " |  Examples\n",
      " |  --------\n",
      " |  >>> np.r_[np.array([1,2,3]), 0, 0, np.array([4,5,6])]\n",
      " |  array([1, 2, 3, 0, 0, 4, 5, 6])\n",
      " |  >>> np.r_[-1:1:6j, [0]*3, 5, 6]\n",
      " |  array([-1. , -0.6, -0.2,  0.2,  0.6,  1. ,  0. ,  0. ,  0. ,  5. ,  6. ])\n",
      " |  \n",
      " |  String integers specify the axis to concatenate along or the minimum\n",
      " |  number of dimensions to force entries into.\n",
      " |  \n",
      " |  >>> a = np.array([[0, 1, 2], [3, 4, 5]])\n",
      " |  >>> np.r_['-1', a, a] # concatenate along last axis\n",
      " |  array([[0, 1, 2, 0, 1, 2],\n",
      " |         [3, 4, 5, 3, 4, 5]])\n",
      " |  >>> np.r_['0,2', [1,2,3], [4,5,6]] # concatenate along first axis, dim>=2\n",
      " |  array([[1, 2, 3],\n",
      " |         [4, 5, 6]])\n",
      " |  \n",
      " |  >>> np.r_['0,2,0', [1,2,3], [4,5,6]]\n",
      " |  array([[1],\n",
      " |         [2],\n",
      " |         [3],\n",
      " |         [4],\n",
      " |         [5],\n",
      " |         [6]])\n",
      " |  >>> np.r_['1,2,0', [1,2,3], [4,5,6]]\n",
      " |  array([[1, 4],\n",
      " |         [2, 5],\n",
      " |         [3, 6]])\n",
      " |  \n",
      " |  Using 'r' or 'c' as a first string argument creates a matrix.\n",
      " |  \n",
      " |  >>> np.r_['r',[1,2,3], [4,5,6]]\n",
      " |  matrix([[1, 2, 3, 4, 5, 6]])\n",
      " |  \n",
      " |  Method resolution order:\n",
      " |      RClass\n",
      " |      AxisConcatenator\n",
      " |      builtins.object\n",
      " |  \n",
      " |  Methods defined here:\n",
      " |  \n",
      " |  __init__(self)\n",
      " |      Initialize self.  See help(type(self)) for accurate signature.\n",
      " |  \n",
      " |  ----------------------------------------------------------------------\n",
      " |  Methods inherited from AxisConcatenator:\n",
      " |  \n",
      " |  __getitem__(self, key)\n",
      " |  \n",
      " |  __getslice__(self, i, j)\n",
      " |  \n",
      " |  __len__(self)\n",
      " |  \n",
      " |  ----------------------------------------------------------------------\n",
      " |  Data descriptors inherited from AxisConcatenator:\n",
      " |  \n",
      " |  __dict__\n",
      " |      dictionary for instance variables (if defined)\n",
      " |  \n",
      " |  __weakref__\n",
      " |      list of weak references to the object (if defined)\n",
      "\n"
     ]
    }
   ],
   "source": [
    "import scipy as sp\n",
    "help(np.r_)"
   ]
  },
  {
   "cell_type": "code",
   "execution_count": 24,
   "metadata": {
    "collapsed": false
   },
   "outputs": [
    {
     "ename": "TypeError",
     "evalue": "invalid dimension tuple",
     "output_type": "error",
     "traceback": [
      "\u001b[0;31m---------------------------------------------------------------------------\u001b[0m",
      "\u001b[0;31mTypeError\u001b[0m                                 Traceback (most recent call last)",
      "\u001b[0;32m<ipython-input-24-ba18f50f9527>\u001b[0m in \u001b[0;36m<module>\u001b[0;34m()\u001b[0m\n\u001b[1;32m      3\u001b[0m              [0.,  0.,  0., -1.,  -5.,   2., -17.,   2.,  -6.,   8., -17.,  -7., 6.] ])\n\u001b[1;32m      4\u001b[0m \u001b[0mh\u001b[0m \u001b[0;34m=\u001b[0m \u001b[0mmatrix\u001b[0m\u001b[0;34m(\u001b[0m\u001b[0;34m[\u001b[0m\u001b[0;36m1.0\u001b[0m\u001b[0;34m,\u001b[0m \u001b[0;36m0.0\u001b[0m\u001b[0;34m,\u001b[0m \u001b[0;36m0.0\u001b[0m\u001b[0;34m,\u001b[0m \u001b[0;36m0.0\u001b[0m\u001b[0;34m,\u001b[0m \u001b[0;36m20.\u001b[0m\u001b[0;34m,\u001b[0m \u001b[0;36m10.\u001b[0m\u001b[0;34m,\u001b[0m \u001b[0;36m40.\u001b[0m\u001b[0;34m,\u001b[0m \u001b[0;36m10.\u001b[0m\u001b[0;34m,\u001b[0m \u001b[0;36m80.\u001b[0m\u001b[0;34m,\u001b[0m \u001b[0;36m10.\u001b[0m\u001b[0;34m,\u001b[0m \u001b[0;36m40.\u001b[0m\u001b[0;34m,\u001b[0m \u001b[0;36m10.\u001b[0m\u001b[0;34m,\u001b[0m \u001b[0;36m15.\u001b[0m\u001b[0;34m]\u001b[0m\u001b[0;34m)\u001b[0m\u001b[0;34m\u001b[0m\u001b[0m\n\u001b[0;32m----> 5\u001b[0;31m \u001b[0mQ\u001b[0m    \u001b[0;34m=\u001b[0m \u001b[0mmatrix\u001b[0m\u001b[0;34m(\u001b[0m\u001b[0;34m[\u001b[0m\u001b[0;36m0\u001b[0m\u001b[0;34m]\u001b[0m\u001b[0;34m,\u001b[0m \u001b[0;34m[\u001b[0m\u001b[0;36m0\u001b[0m\u001b[0;34m]\u001b[0m\u001b[0;34m)\u001b[0m\u001b[0;34m\u001b[0m\u001b[0m\n\u001b[0m\u001b[1;32m      6\u001b[0m \u001b[0mprint\u001b[0m\u001b[0;34m(\u001b[0m\u001b[0mQ\u001b[0m\u001b[0;34m.\u001b[0m\u001b[0msize\u001b[0m\u001b[0;34m,\u001b[0m \u001b[0mh\u001b[0m\u001b[0;34m.\u001b[0m\u001b[0msize\u001b[0m\u001b[0;34m)\u001b[0m\u001b[0;34m\u001b[0m\u001b[0m\n",
      "\u001b[0;31mTypeError\u001b[0m: invalid dimension tuple"
     ]
    }
   ],
   "source": [
    "G = matrix([ [0., -1.,  0.,  0., -21., -11.,   0., -11.,  10.,   8.,   0.,   8., 5.],\n",
    "             [0.,  0., -1.,  0.,   0.,  10.,  16.,  10., -10., -10.,  16., -10., 3.],\n",
    "             [0.,  0.,  0., -1.,  -5.,   2., -17.,   2.,  -6.,   8., -17.,  -7., 6.] ])\n",
    "h = matrix([1.0, 0.0, 0.0, 0.0, 20., 10., 40., 10., 80., 10., 40., 10., 15.])\n",
    "Q    = matrix([0, 0])\n",
    "print(Q.size, h.size)"
   ]
  },
  {
   "cell_type": "code",
   "execution_count": 21,
   "metadata": {
    "collapsed": false
   },
   "outputs": [
    {
     "name": "stderr",
     "output_type": "stream",
     "text": [
      "/home/lex/anaconda3/lib/python3.6/site-packages/matplotlib/font_manager.py:280: UserWarning: Matplotlib is building the font cache using fc-list. This may take a moment.\n",
      "  'Matplotlib is building the font cache using fc-list. '\n"
     ]
    },
    {
     "name": "stdout",
     "output_type": "stream",
     "text": [
      "     pcost       dcost       gap    pres   dres\n",
      " 0:  0.0000e+00  4.8800e+02  3e+01  1e+00  1e+00\n",
      " 1:  4.1427e+00  5.0340e+02  2e+01  9e-01  8e-01\n",
      " 2:  1.1706e+01  4.7917e+02  2e+01  7e-01  7e-01\n",
      " 3:  2.1748e+01  4.3808e+02  1e+01  5e-01  6e-01\n",
      " 4:  3.0383e+01  3.9505e+02  1e+01  5e-01  5e-01\n",
      " 5:  5.2626e+01  2.6445e+02  5e+00  2e-01  3e-01\n",
      " 6:  6.9201e+01  1.4276e+02  2e+00  9e-02  2e-01\n",
      " 7:  7.9554e+01  9.1852e+01  5e-01  3e-02  6e-02\n",
      " 8:  7.9552e+01  9.1490e+01  5e-01  3e-02  6e-02\n",
      " 9:  7.9123e+01  9.0412e+01  5e-01  3e-02  5e-02\n",
      "10:  7.8001e+01  8.8233e+01  5e-01  2e-02  5e-02\n",
      "11:  7.5976e+01  8.4614e+01  4e-01  2e-02  4e-02\n",
      "12:  6.9878e+01  7.5751e+01  4e-01  2e-02  3e-02\n",
      "13:  6.4766e+01  6.9197e+01  2e-01  1e-02  2e-02\n",
      "14:  6.4486e+01  6.8819e+01  2e-01  1e-02  2e-02\n",
      "15:  4.9824e+01  5.5877e+01  7e-01  2e-02  7e-03\n",
      "16:  4.8610e+01  5.2958e+01  5e-01  1e-02  5e-03\n",
      "17:  4.8509e+01  5.0959e+01  7e-01  1e-02  3e-03\n",
      "18:  4.7750e+01  4.8888e+01  7e-01  6e-03  2e-03\n",
      "19:  4.7531e+01  4.8397e+01  6e-01  5e-03  1e-03\n",
      "20:  4.8395e+01  4.7783e+01  8e-01  8e-04  1e-04\n",
      "21:  4.7981e+01  4.7922e+01  9e-02  1e-04  1e-05\n",
      "22:  4.7946e+01  4.7931e+01  2e-02  3e-05  4e-06\n",
      "23:  4.7935e+01  4.7934e+01  2e-03  4e-06  6e-07\n",
      "24:  4.7934e+01  4.7934e+01  6e-05  1e-07  2e-08\n",
      "25:  4.7934e+01  4.7934e+01  6e-07  1e-09  2e-10\n",
      "Optimal solution found.\n",
      "     pcost       dcost       gap    pres   dres\n",
      " 0:  0.0000e+00  4.8800e+02  3e+01  1e+00  1e+00\n",
      " 1:  4.1333e+00  5.0236e+02  2e+01  9e-01  9e-01\n",
      " 2:  1.1754e+01  4.7962e+02  2e+01  7e-01  7e-01\n",
      " 3:  2.2895e+01  4.3810e+02  1e+01  5e-01  5e-01\n",
      " 4:  3.4176e+01  3.8191e+02  9e+00  4e-01  4e-01\n",
      " 5:  4.9929e+01  2.8113e+02  4e+00  2e-01  3e-01\n",
      " 6:  7.1455e+01  1.3380e+02  7e-01  7e-02  1e-01\n",
      " 7:  7.2493e+01  1.1604e+02  7e-01  6e-02  1e-01\n",
      " 8:  7.3193e+01  1.0457e+02  6e-01  5e-02  9e-02\n",
      " 9:  6.9925e+01  8.1126e+01  6e-01  2e-02  4e-02\n",
      "10:  7.0019e+01  8.0434e+01  6e-01  2e-02  4e-02\n",
      "11:  7.1780e+01  7.6302e+01  6e-01  1e-02  3e-02\n",
      "12:  7.1723e+01  7.6170e+01  6e-01  1e-02  3e-02\n",
      "13:  6.3163e+01  6.6549e+01  1e+00  1e-02  2e-02\n",
      "14:  5.9858e+01  6.2560e+01  1e+00  1e-02  1e-02\n",
      "15:  5.4676e+01  5.7392e+01  6e-01  1e-02  7e-03\n",
      "16:  5.1360e+01  5.3632e+01  4e-01  8e-03  5e-03\n",
      "17:  4.9999e+01  5.1862e+01  4e-01  7e-03  4e-03\n",
      "18:  4.7649e+01  4.9212e+01  3e-01  6e-03  3e-03\n",
      "19:  4.7213e+01  4.8311e+01  3e-01  4e-03  2e-03\n",
      "20:  4.6845e+01  4.7628e+01  2e-01  3e-03  1e-03\n",
      "21:  4.6797e+01  4.7211e+01  4e-02  1e-03  3e-04\n",
      "22:  4.7073e+01  4.7156e+01  4e-03  3e-04  5e-05\n",
      "23:  4.7153e+01  4.7156e+01  1e-04  1e-05  2e-06\n",
      "24:  4.7156e+01  4.7156e+01  1e-06  1e-07  2e-08\n",
      "25:  4.7156e+01  4.7156e+01  1e-08  1e-09  2e-10\n",
      "Optimal solution found.\n"
     ]
    },
    {
     "ename": "ValueError",
     "evalue": "Unrecognized character f in format string",
     "output_type": "error",
     "traceback": [
      "\u001b[0;31m---------------------------------------------------------------------------\u001b[0m",
      "\u001b[0;31mValueError\u001b[0m                                Traceback (most recent call last)",
      "\u001b[0;32m<ipython-input-21-d6254ac0d769>\u001b[0m in \u001b[0;36m<module>\u001b[0;34m()\u001b[0m\n\u001b[1;32m     96\u001b[0m \u001b[0;32mfor\u001b[0m \u001b[0mk\u001b[0m \u001b[0;32min\u001b[0m \u001b[0mrange\u001b[0m\u001b[0;34m(\u001b[0m\u001b[0;36m5\u001b[0m\u001b[0;34m)\u001b[0m\u001b[0;34m:\u001b[0m\u001b[0;34m\u001b[0m\u001b[0m\n\u001b[1;32m     97\u001b[0m     pylab.fill([x[k], x[k], x[k]+w[k], x[k]+w[k]],\n\u001b[0;32m---> 98\u001b[0;31m                [y[k], y[k]+h[k], y[k]+h[k], y[k]], 'facecolor = #D0D0D0')\n\u001b[0m\u001b[1;32m     99\u001b[0m     \u001b[0mpylab\u001b[0m\u001b[0;34m.\u001b[0m\u001b[0mtext\u001b[0m\u001b[0;34m(\u001b[0m\u001b[0mx\u001b[0m\u001b[0;34m[\u001b[0m\u001b[0mk\u001b[0m\u001b[0;34m]\u001b[0m\u001b[0;34m+\u001b[0m\u001b[0;36m.5\u001b[0m\u001b[0;34m*\u001b[0m\u001b[0mw\u001b[0m\u001b[0;34m[\u001b[0m\u001b[0mk\u001b[0m\u001b[0;34m]\u001b[0m\u001b[0;34m,\u001b[0m \u001b[0my\u001b[0m\u001b[0;34m[\u001b[0m\u001b[0mk\u001b[0m\u001b[0;34m]\u001b[0m\u001b[0;34m+\u001b[0m\u001b[0;36m.5\u001b[0m\u001b[0;34m*\u001b[0m\u001b[0mh\u001b[0m\u001b[0;34m[\u001b[0m\u001b[0mk\u001b[0m\u001b[0;34m]\u001b[0m\u001b[0;34m,\u001b[0m \u001b[0;34m\"%d\"\u001b[0m \u001b[0;34m%\u001b[0m\u001b[0;34m(\u001b[0m\u001b[0mk\u001b[0m\u001b[0;34m+\u001b[0m\u001b[0;36m1\u001b[0m\u001b[0;34m)\u001b[0m\u001b[0;34m)\u001b[0m\u001b[0;34m\u001b[0m\u001b[0m\n\u001b[1;32m    100\u001b[0m \u001b[0mpylab\u001b[0m\u001b[0;34m.\u001b[0m\u001b[0maxis\u001b[0m\u001b[0;34m(\u001b[0m\u001b[0;34m[\u001b[0m\u001b[0;34m-\u001b[0m\u001b[0;36m1.0\u001b[0m\u001b[0;34m,\u001b[0m \u001b[0;36m26\u001b[0m\u001b[0;34m,\u001b[0m \u001b[0;34m-\u001b[0m\u001b[0;36m1.0\u001b[0m\u001b[0;34m,\u001b[0m \u001b[0;36m26\u001b[0m\u001b[0;34m]\u001b[0m\u001b[0;34m)\u001b[0m\u001b[0;34m\u001b[0m\u001b[0m\n",
      "\u001b[0;32m/home/lex/anaconda3/lib/python3.6/site-packages/matplotlib/pyplot.py\u001b[0m in \u001b[0;36mfill\u001b[0;34m(*args, **kwargs)\u001b[0m\n\u001b[1;32m   2975\u001b[0m                       mplDeprecation)\n\u001b[1;32m   2976\u001b[0m     \u001b[0;32mtry\u001b[0m\u001b[0;34m:\u001b[0m\u001b[0;34m\u001b[0m\u001b[0m\n\u001b[0;32m-> 2977\u001b[0;31m         \u001b[0mret\u001b[0m \u001b[0;34m=\u001b[0m \u001b[0max\u001b[0m\u001b[0;34m.\u001b[0m\u001b[0mfill\u001b[0m\u001b[0;34m(\u001b[0m\u001b[0;34m*\u001b[0m\u001b[0margs\u001b[0m\u001b[0;34m,\u001b[0m \u001b[0;34m**\u001b[0m\u001b[0mkwargs\u001b[0m\u001b[0;34m)\u001b[0m\u001b[0;34m\u001b[0m\u001b[0m\n\u001b[0m\u001b[1;32m   2978\u001b[0m     \u001b[0;32mfinally\u001b[0m\u001b[0;34m:\u001b[0m\u001b[0;34m\u001b[0m\u001b[0m\n\u001b[1;32m   2979\u001b[0m         \u001b[0max\u001b[0m\u001b[0;34m.\u001b[0m\u001b[0m_hold\u001b[0m \u001b[0;34m=\u001b[0m \u001b[0mwashold\u001b[0m\u001b[0;34m\u001b[0m\u001b[0m\n",
      "\u001b[0;32m/home/lex/anaconda3/lib/python3.6/site-packages/matplotlib/__init__.py\u001b[0m in \u001b[0;36minner\u001b[0;34m(ax, *args, **kwargs)\u001b[0m\n\u001b[1;32m   1890\u001b[0m                     warnings.warn(msg % (label_namer, func.__name__),\n\u001b[1;32m   1891\u001b[0m                                   RuntimeWarning, stacklevel=2)\n\u001b[0;32m-> 1892\u001b[0;31m             \u001b[0;32mreturn\u001b[0m \u001b[0mfunc\u001b[0m\u001b[0;34m(\u001b[0m\u001b[0max\u001b[0m\u001b[0;34m,\u001b[0m \u001b[0;34m*\u001b[0m\u001b[0margs\u001b[0m\u001b[0;34m,\u001b[0m \u001b[0;34m**\u001b[0m\u001b[0mkwargs\u001b[0m\u001b[0;34m)\u001b[0m\u001b[0;34m\u001b[0m\u001b[0m\n\u001b[0m\u001b[1;32m   1893\u001b[0m         \u001b[0mpre_doc\u001b[0m \u001b[0;34m=\u001b[0m \u001b[0minner\u001b[0m\u001b[0;34m.\u001b[0m\u001b[0m__doc__\u001b[0m\u001b[0;34m\u001b[0m\u001b[0m\n\u001b[1;32m   1894\u001b[0m         \u001b[0;32mif\u001b[0m \u001b[0mpre_doc\u001b[0m \u001b[0;32mis\u001b[0m \u001b[0;32mNone\u001b[0m\u001b[0;34m:\u001b[0m\u001b[0;34m\u001b[0m\u001b[0m\n",
      "\u001b[0;32m/home/lex/anaconda3/lib/python3.6/site-packages/matplotlib/axes/_axes.py\u001b[0m in \u001b[0;36mfill\u001b[0;34m(self, *args, **kwargs)\u001b[0m\n\u001b[1;32m   4689\u001b[0m \u001b[0;34m\u001b[0m\u001b[0m\n\u001b[1;32m   4690\u001b[0m         \u001b[0mpatches\u001b[0m \u001b[0;34m=\u001b[0m \u001b[0;34m[\u001b[0m\u001b[0;34m]\u001b[0m\u001b[0;34m\u001b[0m\u001b[0m\n\u001b[0;32m-> 4691\u001b[0;31m         \u001b[0;32mfor\u001b[0m \u001b[0mpoly\u001b[0m \u001b[0;32min\u001b[0m \u001b[0mself\u001b[0m\u001b[0;34m.\u001b[0m\u001b[0m_get_patches_for_fill\u001b[0m\u001b[0;34m(\u001b[0m\u001b[0;34m*\u001b[0m\u001b[0margs\u001b[0m\u001b[0;34m,\u001b[0m \u001b[0;34m**\u001b[0m\u001b[0mkwargs\u001b[0m\u001b[0;34m)\u001b[0m\u001b[0;34m:\u001b[0m\u001b[0;34m\u001b[0m\u001b[0m\n\u001b[0m\u001b[1;32m   4692\u001b[0m             \u001b[0mself\u001b[0m\u001b[0;34m.\u001b[0m\u001b[0madd_patch\u001b[0m\u001b[0;34m(\u001b[0m\u001b[0mpoly\u001b[0m\u001b[0;34m)\u001b[0m\u001b[0;34m\u001b[0m\u001b[0m\n\u001b[1;32m   4693\u001b[0m             \u001b[0mpatches\u001b[0m\u001b[0;34m.\u001b[0m\u001b[0mappend\u001b[0m\u001b[0;34m(\u001b[0m\u001b[0mpoly\u001b[0m\u001b[0;34m)\u001b[0m\u001b[0;34m\u001b[0m\u001b[0m\n",
      "\u001b[0;32m/home/lex/anaconda3/lib/python3.6/site-packages/matplotlib/axes/_base.py\u001b[0m in \u001b[0;36m_grab_next_args\u001b[0;34m(self, *args, **kwargs)\u001b[0m\n\u001b[1;32m    405\u001b[0m                 \u001b[0;32mreturn\u001b[0m\u001b[0;34m\u001b[0m\u001b[0m\n\u001b[1;32m    406\u001b[0m             \u001b[0;32mif\u001b[0m \u001b[0mlen\u001b[0m\u001b[0;34m(\u001b[0m\u001b[0mremaining\u001b[0m\u001b[0;34m)\u001b[0m \u001b[0;34m<=\u001b[0m \u001b[0;36m3\u001b[0m\u001b[0;34m:\u001b[0m\u001b[0;34m\u001b[0m\u001b[0m\n\u001b[0;32m--> 407\u001b[0;31m                 \u001b[0;32mfor\u001b[0m \u001b[0mseg\u001b[0m \u001b[0;32min\u001b[0m \u001b[0mself\u001b[0m\u001b[0;34m.\u001b[0m\u001b[0m_plot_args\u001b[0m\u001b[0;34m(\u001b[0m\u001b[0mremaining\u001b[0m\u001b[0;34m,\u001b[0m \u001b[0mkwargs\u001b[0m\u001b[0;34m)\u001b[0m\u001b[0;34m:\u001b[0m\u001b[0;34m\u001b[0m\u001b[0m\n\u001b[0m\u001b[1;32m    408\u001b[0m                     \u001b[0;32myield\u001b[0m \u001b[0mseg\u001b[0m\u001b[0;34m\u001b[0m\u001b[0m\n\u001b[1;32m    409\u001b[0m                 \u001b[0;32mreturn\u001b[0m\u001b[0;34m\u001b[0m\u001b[0m\n",
      "\u001b[0;32m/home/lex/anaconda3/lib/python3.6/site-packages/matplotlib/axes/_base.py\u001b[0m in \u001b[0;36m_plot_args\u001b[0;34m(self, tup, kwargs)\u001b[0m\n\u001b[1;32m    355\u001b[0m         \u001b[0mret\u001b[0m \u001b[0;34m=\u001b[0m \u001b[0;34m[\u001b[0m\u001b[0;34m]\u001b[0m\u001b[0;34m\u001b[0m\u001b[0m\n\u001b[1;32m    356\u001b[0m         \u001b[0;32mif\u001b[0m \u001b[0mlen\u001b[0m\u001b[0;34m(\u001b[0m\u001b[0mtup\u001b[0m\u001b[0;34m)\u001b[0m \u001b[0;34m>\u001b[0m \u001b[0;36m1\u001b[0m \u001b[0;32mand\u001b[0m \u001b[0mis_string_like\u001b[0m\u001b[0;34m(\u001b[0m\u001b[0mtup\u001b[0m\u001b[0;34m[\u001b[0m\u001b[0;34m-\u001b[0m\u001b[0;36m1\u001b[0m\u001b[0;34m]\u001b[0m\u001b[0;34m)\u001b[0m\u001b[0;34m:\u001b[0m\u001b[0;34m\u001b[0m\u001b[0m\n\u001b[0;32m--> 357\u001b[0;31m             \u001b[0mlinestyle\u001b[0m\u001b[0;34m,\u001b[0m \u001b[0mmarker\u001b[0m\u001b[0;34m,\u001b[0m \u001b[0mcolor\u001b[0m \u001b[0;34m=\u001b[0m \u001b[0m_process_plot_format\u001b[0m\u001b[0;34m(\u001b[0m\u001b[0mtup\u001b[0m\u001b[0;34m[\u001b[0m\u001b[0;34m-\u001b[0m\u001b[0;36m1\u001b[0m\u001b[0;34m]\u001b[0m\u001b[0;34m)\u001b[0m\u001b[0;34m\u001b[0m\u001b[0m\n\u001b[0m\u001b[1;32m    358\u001b[0m             \u001b[0mtup\u001b[0m \u001b[0;34m=\u001b[0m \u001b[0mtup\u001b[0m\u001b[0;34m[\u001b[0m\u001b[0;34m:\u001b[0m\u001b[0;34m-\u001b[0m\u001b[0;36m1\u001b[0m\u001b[0;34m]\u001b[0m\u001b[0;34m\u001b[0m\u001b[0m\n\u001b[1;32m    359\u001b[0m         \u001b[0;32melif\u001b[0m \u001b[0mlen\u001b[0m\u001b[0;34m(\u001b[0m\u001b[0mtup\u001b[0m\u001b[0;34m)\u001b[0m \u001b[0;34m==\u001b[0m \u001b[0;36m3\u001b[0m\u001b[0;34m:\u001b[0m\u001b[0;34m\u001b[0m\u001b[0m\n",
      "\u001b[0;32m/home/lex/anaconda3/lib/python3.6/site-packages/matplotlib/axes/_base.py\u001b[0m in \u001b[0;36m_process_plot_format\u001b[0;34m(fmt)\u001b[0m\n\u001b[1;32m    128\u001b[0m         \u001b[0;32melse\u001b[0m\u001b[0;34m:\u001b[0m\u001b[0;34m\u001b[0m\u001b[0m\n\u001b[1;32m    129\u001b[0m             raise ValueError(\n\u001b[0;32m--> 130\u001b[0;31m                 'Unrecognized character %c in format string' % c)\n\u001b[0m\u001b[1;32m    131\u001b[0m         \u001b[0mi\u001b[0m \u001b[0;34m+=\u001b[0m \u001b[0;36m1\u001b[0m\u001b[0;34m\u001b[0m\u001b[0m\n\u001b[1;32m    132\u001b[0m \u001b[0;34m\u001b[0m\u001b[0m\n",
      "\u001b[0;31mValueError\u001b[0m: Unrecognized character f in format string"
     ]
    }
   ],
   "source": [
    "import pylab\n",
    "from cvxopt import solvers, matrix, spmatrix, mul, div\n",
    "\n",
    "def floorplan(Amin):\n",
    "\n",
    "    #     minimize    W+H\n",
    "    #     subject to  Amink / hk <= wk, k = 1,..., 5\n",
    "    #                 x1 >= 0,  x2 >= 0, x4 >= 0\n",
    "    #                 x1 + w1 + rho <= x3\n",
    "    #                 x2 + w2 + rho <= x3\n",
    "    #                 x3 + w3 + rho <= x5\n",
    "    #                 x4 + w4 + rho <= x5\n",
    "    #                 x5 + w5 <= W\n",
    "    #                 y2 >= 0,  y3 >= 0,  y5 >= 0\n",
    "    #                 y2 + h2 + rho <= y1\n",
    "    #                 y1 + h1 + rho <= y4\n",
    "    #                 y3 + h3 + rho <= y4\n",
    "    #                 y4 + h4 <= H\n",
    "    #                 y5 + h5 <= H\n",
    "    #                 hk/gamma <= wk <= gamma*hk,  k = 1, ..., 5\n",
    "    #\n",
    "    # 22 Variables W, H, x (5), y (5), w (5), h (5).\n",
    "    #\n",
    "    # W, H:  scalars; bounding box width and height\n",
    "    # x, y:  5-vectors; coordinates of bottom left corners of blocks\n",
    "    # w, h:  5-vectors; widths and heigths of the 5 blocks\n",
    "\n",
    "    rho, gamma = 1.0, 5.0   # min spacing, min aspect ratio\n",
    "\n",
    "    # The objective is to minimize W + H.  There are five nonlinear\n",
    "    # constraints\n",
    "    #\n",
    "    #     -wk + Amink / hk <= 0,  k = 1, ..., 5\n",
    "\n",
    "    c = matrix(2*[1.0] + 20*[0.0])\n",
    "\n",
    "    def F(x=None, z=None):\n",
    "        if x is None:  return 5, matrix(17*[0.0] + 5*[1.0])\n",
    "        if min(x[17:]) <= 0.0:  return None\n",
    "        f = -x[12:17] + div(Amin, x[17:])\n",
    "        Df = matrix(0.0, (5,22))\n",
    "        Df[:,12:17] = spmatrix(-1.0, range(5), range(5))\n",
    "        Df[:,17:] = spmatrix(-div(Amin, x[17:]**2), range(5), range(5))\n",
    "        if z is None: return f, Df\n",
    "        H = spmatrix( 2.0* mul(z, div(Amin, x[17::]**3)), range(17,22), range(17,22) )\n",
    "        return f, Df, H\n",
    "\n",
    "    G = matrix(0.0, (26,22))\n",
    "    h = matrix(0.0, (26,1))\n",
    "    G[0,2] = -1.0                                       # -x1 <= 0\n",
    "    G[1,3] = -1.0                                       # -x2 <= 0\n",
    "    G[2,5] = -1.0                                       # -x4 <= 0\n",
    "    G[3, [2, 4, 12]], h[3] = [1.0, -1.0, 1.0], -rho     # x1 - x3 + w1 <= -rho\n",
    "    G[4, [3, 4, 13]], h[4] = [1.0, -1.0, 1.0], -rho     # x2 - x3 + w2 <= -rho\n",
    "    G[5, [4, 6, 14]], h[5] = [1.0, -1.0, 1.0], -rho     # x3 - x5 + w3 <= -rho\n",
    "    G[6, [5, 6, 15]], h[6] = [1.0, -1.0, 1.0], -rho     # x4 - x5 + w4 <= -rho\n",
    "    G[7, [0, 6, 16]] = -1.0, 1.0, 1.0                   # -W + x5 + w5 <= 0\n",
    "    G[8,8] = -1.0                                       # -y2 <= 0\n",
    "    G[9,9] = -1.0                                       # -y3 <= 0\n",
    "    G[10,11] = -1.0                                     # -y5 <= 0\n",
    "    G[11, [7, 8, 18]], h[11] = [-1.0, 1.0, 1.0], -rho   # -y1 + y2 + h2 <= -rho\n",
    "    G[12, [7, 10, 17]], h[12] = [1.0, -1.0, 1.0], -rho  #  y1 - y4 + h1 <= -rho\n",
    "    G[13, [9, 10, 19]], h[13] = [1.0, -1.0, 1.0], -rho  #  y3 - y4 + h3 <= -rho\n",
    "    G[14, [1, 10, 20]] = -1.0, 1.0, 1.0                 # -H + y4 + h4 <= 0\n",
    "    G[15, [1, 11, 21]] = -1.0, 1.0, 1.0                 # -H + y5 + h5 <= 0\n",
    "    G[16, [12, 17]] = -1.0, 1.0/gamma                   # -w1 + h1/gamma <= 0\n",
    "    G[17, [12, 17]] = 1.0, -gamma                       #  w1 - gamma * h1 <= 0\n",
    "    G[18, [13, 18]] = -1.0, 1.0/gamma                   # -w2 + h2/gamma <= 0\n",
    "    G[19, [13, 18]] = 1.0, -gamma                       #  w2 - gamma * h2 <= 0\n",
    "    G[20, [14, 18]] = -1.0, 1.0/gamma                   # -w3 + h3/gamma <= 0\n",
    "    G[21, [14, 19]] = 1.0, -gamma                       #  w3 - gamma * h3 <= 0\n",
    "    G[22, [15, 19]] = -1.0, 1.0/gamma                   # -w4  + h4/gamma <= 0\n",
    "    G[23, [15, 20]] = 1.0, -gamma                       #  w4 - gamma * h4 <= 0\n",
    "    G[24, [16, 21]] = -1.0, 1.0/gamma                   # -w5 + h5/gamma <= 0\n",
    "    G[25, [16, 21]] = 1.0, -gamma                       #  w5 - gamma * h5 <= 0.0\n",
    "\n",
    "    # solve and return W, H, x, y, w, h\n",
    "    sol = solvers.cpl(c, F, G, h)\n",
    "    return  sol['x'][0], sol['x'][1], sol['x'][2:7], sol['x'][7:12], sol['x'][12:17], sol['x'][17:]\n",
    "\n",
    "pylab.figure(facecolor='w')\n",
    "pylab.subplot(221)\n",
    "Amin = matrix([100., 100., 100., 100., 100.])\n",
    "W, H, x, y, w, h =  floorplan(Amin)\n",
    "for k in range(5):\n",
    "    pylab.fill([x[k], x[k], x[k]+w[k], x[k]+w[k]],\n",
    "               [y[k], y[k]+h[k], y[k]+h[k], y[k]], facecolor = '#D0D0D0')\n",
    "    pylab.text(x[k]+.5*w[k], y[k]+.5*h[k], \"%d\" %(k+1))\n",
    "pylab.axis([-1.0, 26, -1.0, 26])\n",
    "pylab.xticks([])\n",
    "pylab.yticks([])\n",
    "\n",
    "pylab.subplot(222)\n",
    "Amin = matrix([20., 50., 80., 150., 200.])\n",
    "W, H, x, y, w, h =  floorplan(Amin)\n",
    "for k in range(5):\n",
    "    pylab.fill([x[k], x[k], x[k]+w[k], x[k]+w[k]],\n",
    "               [y[k], y[k]+h[k], y[k]+h[k], y[k]], 'facecolor = #D0D0D0')\n",
    "    pylab.text(x[k]+.5*w[k], y[k]+.5*h[k], \"%d\" %(k+1))\n",
    "pylab.axis([-1.0, 26, -1.0, 26])\n",
    "pylab.xticks([])\n",
    "pylab.yticks([])\n",
    "\n",
    "pylab.subplot(223)\n",
    "Amin = matrix([180., 80., 80., 80., 80.])\n",
    "W, H, x, y, w, h =  floorplan(Amin)\n",
    "for k in range(5):\n",
    "    pylab.fill([x[k], x[k], x[k]+w[k], x[k]+w[k]],\n",
    "               [y[k], y[k]+h[k], y[k]+h[k], y[k]], 'facecolor = #D0D0D0')\n",
    "    pylab.text(x[k]+.5*w[k], y[k]+.5*h[k], \"%d\" %(k+1))\n",
    "pylab.axis([-1.0, 26, -1.0, 26])\n",
    "pylab.xticks([])\n",
    "pylab.yticks([])\n",
    "\n",
    "pylab.subplot(224)\n",
    "Amin = matrix([20., 150., 20., 200., 110.])\n",
    "W, H, x, y, w, h =  floorplan(Amin)\n",
    "for k in range(5):\n",
    "    pylab.fill([x[k], x[k], x[k]+w[k], x[k]+w[k]],\n",
    "               [y[k], y[k]+h[k], y[k]+h[k], y[k]], 'facecolor = #D0D0D0')\n",
    "    pylab.text(x[k]+.5*w[k], y[k]+.5*h[k], \"%d\" %(k+1))\n",
    "pylab.axis([-1.0, 26, -1.0, 26])\n",
    "pylab.xticks([])\n",
    "pylab.yticks([])\n",
    "\n",
    "pylab.show()"
   ]
  },
  {
   "cell_type": "code",
   "execution_count": null,
   "metadata": {
    "collapsed": false
   },
   "outputs": [],
   "source": [
    "# help(np.diagonal)"
   ]
  },
  {
   "cell_type": "code",
   "execution_count": 22,
   "metadata": {
    "collapsed": false
   },
   "outputs": [
    {
     "name": "stdout",
     "output_type": "stream",
     "text": [
      "Help on function getargspec in module inspect:\n",
      "\n",
      "getargspec(func)\n",
      "    Get the names and default values of a function's parameters.\n",
      "    \n",
      "    A tuple of four things is returned: (args, varargs, keywords, defaults).\n",
      "    'args' is a list of the argument names, including keyword-only argument names.\n",
      "    'varargs' and 'keywords' are the names of the * and ** parameters or None.\n",
      "    'defaults' is an n-tuple of the default values of the last n parameters.\n",
      "    \n",
      "    This function is deprecated, as it does not support annotations or\n",
      "    keyword-only parameters and will raise ValueError if either is present\n",
      "    on the supplied callable.\n",
      "    \n",
      "    For a more structured introspection API, use inspect.signature() instead.\n",
      "    \n",
      "    Alternatively, use getfullargspec() for an API with a similar namedtuple\n",
      "    based interface, but full support for annotations and keyword-only\n",
      "    parameters.\n",
      "\n"
     ]
    }
   ],
   "source": [
    "from inspect import getargspec\n",
    "help(getargspec)"
   ]
  },
  {
   "cell_type": "code",
   "execution_count": null,
   "metadata": {
    "collapsed": true
   },
   "outputs": [],
   "source": []
  }
 ],
 "metadata": {
  "kernelspec": {
   "display_name": "Python 3",
   "language": "python",
   "name": "python3"
  },
  "language_info": {
   "codemirror_mode": {
    "name": "ipython",
    "version": 3
   },
   "file_extension": ".py",
   "mimetype": "text/x-python",
   "name": "python",
   "nbconvert_exporter": "python",
   "pygments_lexer": "ipython3",
   "version": "3.6.0"
  }
 },
 "nbformat": 4,
 "nbformat_minor": 2
}
