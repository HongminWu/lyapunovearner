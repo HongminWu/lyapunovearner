{
 "cells": [
  {
   "cell_type": "code",
   "execution_count": 12,
   "metadata": {
    "collapsed": false
   },
   "outputs": [
    {
     "name": "stdout",
     "output_type": "stream",
     "text": [
      "     pcost       dcost       gap    pres   dres\n",
      "z:  [ 1.00e+00]\n",
      "\n",
      " 0:  0.0000e+00 -1.1600e+02  5e+00  1e+00  1e+00\n",
      "z:  [ 1.00e+00]\n",
      "\n",
      "z:  [ 1.00e+00]\n",
      "\n",
      " 1:  6.1083e-03 -3.2919e+01  4e+00  1e+00  1e+00\n",
      "z:  [ 1.00e+00]\n",
      "\n",
      "z:  [ 1.00e+00]\n",
      "\n",
      " 2:  6.5547e-02 -1.3272e+01  3e+00  9e-01  9e-01\n",
      "z:  [ 1.00e+00]\n",
      "\n",
      "z:  [ 1.00e+00]\n",
      "\n",
      " 3:  4.5177e-01 -5.8044e-01  2e+00  6e-01  7e-01\n",
      "z:  [ 1.00e+00]\n",
      "\n",
      "z:  [ 1.00e+00]\n",
      "\n",
      " 4:  5.8869e-01  9.1517e-01  1e+00  5e-01  5e-01\n",
      "z:  [ 1.00e+00]\n",
      "\n",
      "z:  [ 1.00e+00]\n",
      "\n",
      " 5:  9.4434e-01  2.4680e+00  1e+00  4e-01  6e-01\n",
      "z:  [ 1.00e+00]\n",
      "\n",
      "z:  [ 1.00e+00]\n",
      "\n",
      " 6:  8.2046e-01  1.3892e+00  1e+00  3e-01  4e-01\n",
      "z:  [ 1.00e+00]\n",
      "\n",
      "z:  [ 1.00e+00]\n",
      "\n",
      " 7:  8.5287e-01  1.4594e+00  4e-01  1e-01  2e-01\n",
      "z:  [ 1.00e+00]\n",
      "\n",
      "z:  [ 1.00e+00]\n",
      "\n",
      " 8:  1.0036e+00  1.4560e+00  4e-01  1e-01  2e-01\n",
      "z:  [ 1.00e+00]\n",
      "\n",
      "z:  [ 1.00e+00]\n",
      "\n",
      " 9:  1.1380e+00  1.2097e+00  1e-01  8e-03  3e-02\n",
      "z:  [ 1.00e+00]\n",
      "\n",
      "z:  [ 1.00e+00]\n",
      "\n",
      "10:  1.2575e+00  1.2716e+00  3e-02  1e-03  8e-03\n",
      "z:  [ 1.00e+00]\n",
      "\n",
      "z:  [ 1.00e+00]\n",
      "\n",
      "11:  1.2837e+00  1.2841e+00  1e-02  4e-04  2e-03\n",
      "z:  [ 1.00e+00]\n",
      "\n",
      "z:  [ 1.00e+00]\n",
      "\n",
      "12:  1.2896e+00  1.2896e+00  2e-03  5e-05  8e-04\n",
      "z:  [ 1.00e+00]\n",
      "\n",
      "z:  [ 1.00e+00]\n",
      "\n",
      "13:  1.2899e+00  1.2898e+00  1e-03  4e-05  6e-04\n",
      "z:  [ 1.00e+00]\n",
      "\n",
      "z:  [ 1.00e+00]\n",
      "\n",
      "14:  1.2905e+00  1.2904e+00  3e-04  7e-06  3e-04\n",
      "z:  [ 1.00e+00]\n",
      "\n",
      "z:  [ 1.00e+00]\n",
      "\n",
      "15:  1.2905e+00  1.2905e+00  3e-04  6e-06  2e-04\n",
      "z:  [ 1.00e+00]\n",
      "\n",
      "z:  [ 1.00e+00]\n",
      "\n",
      "16:  1.2906e+00  1.2906e+00  5e-05  1e-06  8e-05\n",
      "z:  [ 1.00e+00]\n",
      "\n",
      "z:  [ 1.00e+00]\n",
      "\n",
      "17:  1.2906e+00  1.2906e+00  5e-05  8e-07  7e-05\n",
      "z:  [ 1.00e+00]\n",
      "\n",
      "z:  [ 1.00e+00]\n",
      "\n",
      "18:  1.2906e+00  1.2906e+00  1e-05  2e-07  3e-05\n",
      "z:  [ 1.00e+00]\n",
      "\n",
      "z:  [ 1.00e+00]\n",
      "\n",
      "19:  1.2906e+00  1.2906e+00  1e-05  1e-07  1e-05\n",
      "z:  [ 1.00e+00]\n",
      "\n",
      "z:  [ 1.00e+00]\n",
      "\n",
      "20:  1.2906e+00  1.2906e+00  3e-06  3e-08  7e-06\n",
      "z:  [ 1.00e+00]\n",
      "\n",
      "z:  [ 1.00e+00]\n",
      "\n",
      "21:  1.2906e+00  1.2906e+00  2e-06  2e-08  8e-06\n",
      "z:  [ 1.00e+00]\n",
      "\n",
      "z:  [ 1.00e+00]\n",
      "\n",
      "22:  1.2906e+00  1.2906e+00  7e-07  7e-09  3e-06\n",
      "z:  [ 1.00e+00]\n",
      "\n",
      "z:  [ 1.00e+00]\n",
      "\n",
      "23:  1.2906e+00  1.2906e+00  6e-07  5e-09  1e-06\n",
      "z:  [ 1.00e+00]\n",
      "\n",
      "z:  [ 1.00e+00]\n",
      "\n",
      "24:  1.2906e+00  1.2906e+00  2e-07  1e-09  7e-07\n",
      "z:  [ 1.00e+00]\n",
      "\n",
      "z:  [ 1.00e+00]\n",
      "\n",
      "25:  1.2906e+00  1.2906e+00  2e-07  1e-09  1e-06\n",
      "z:  [ 1.00e+00]\n",
      "\n",
      "z:  [ 1.00e+00]\n",
      "\n",
      "26:  1.2906e+00  1.2906e+00  6e-08  3e-10  5e-07\n",
      "z:  [ 1.00e+00]\n",
      "\n",
      "z:  [ 1.00e+00]\n",
      "\n",
      "27:  1.2906e+00  1.2906e+00  5e-08  2e-10  1e-07\n",
      "z:  [ 1.00e+00]\n",
      "\n",
      "z:  [ 1.00e+00]\n",
      "\n",
      "28:  1.2906e+00  1.2906e+00  2e-08  7e-11  9e-08\n",
      "Optimal solution found.\n"
     ]
    }
   ],
   "source": [
    "from cvxopt import matrix, log, div, spdiag, solvers\n",
    "\n",
    "def F(x = None, z = None):\n",
    "     if x is None:  return 0, matrix(0.0, (3,1))\n",
    "     if max(abs(x)) >= 1.0:  return None\n",
    "     u = 1 - x**2\n",
    "     val = -sum(log(u))\n",
    "     Df = div(2*x, u).T\n",
    "     if z is None:  return val, Df\n",
    "     #print('z: ', z)\n",
    "     H = spdiag(2 * z[0] * div(1 + u**2, u**2))\n",
    "     return val, Df, H\n",
    "\n",
    "G = matrix([ [0., -1.,  0.,  0., -21., -11.,   0., -11.,  10.,   8.,   0.,   8., 5.],\n",
    "             [0.,  0., -1.,  0.,   0.,  10.,  16.,  10., -10., -10.,  16., -10., 3.],\n",
    "             [0.,  0.,  0., -1.,  -5.,   2., -17.,   2.,  -6.,   8., -17.,  -7., 6.] ])\n",
    "h = matrix([1.0, 0.0, 0.0, 0.0, 20., 10., 40., 10., 80., 10., 40., 10., 15.])\n",
    "dims = {'l': 0, 'q': [4], 's':  [3]}\n",
    "sol = solvers.cp(F, G, h, dims)\n",
    "# print(sol)\n",
    "# print(sol['x'])"
   ]
  },
  {
   "cell_type": "code",
   "execution_count": 23,
   "metadata": {
    "collapsed": false
   },
   "outputs": [
    {
     "ename": "AttributeError",
     "evalue": "module 'numpy' has no attribute 'det'",
     "output_type": "error",
     "traceback": [
      "\u001b[0;31m---------------------------------------------------------------------------\u001b[0m",
      "\u001b[0;31mAttributeError\u001b[0m                            Traceback (most recent call last)",
      "\u001b[0;32m<ipython-input-23-9438879ce7a5>\u001b[0m in \u001b[0;36m<module>\u001b[0;34m()\u001b[0m\n\u001b[1;32m      3\u001b[0m \u001b[0mV_k\u001b[0m\u001b[0;34m\u001b[0m\u001b[0m\n\u001b[1;32m      4\u001b[0m \u001b[0mV_k\u001b[0m\u001b[0;34m[\u001b[0m\u001b[0mV_k\u001b[0m \u001b[0;34m<\u001b[0m \u001b[0;36m0\u001b[0m\u001b[0;34m]\u001b[0m\u001b[0;34m\u001b[0m\u001b[0m\n\u001b[0;32m----> 5\u001b[0;31m \u001b[0mhelp\u001b[0m\u001b[0;34m(\u001b[0m\u001b[0mnp\u001b[0m\u001b[0;34m.\u001b[0m\u001b[0mdet\u001b[0m\u001b[0;34m)\u001b[0m\u001b[0;34m\u001b[0m\u001b[0m\n\u001b[0m",
      "\u001b[0;31mAttributeError\u001b[0m: module 'numpy' has no attribute 'det'"
     ]
    }
   ],
   "source": [
    "import numpy as np\n",
    "V_k = np.sum(np.ones((4,4)),axis=0)\n",
    "V_k\n",
    "V_k[V_k < 0]\n",
    "help(np.det)"
   ]
  },
  {
   "cell_type": "code",
   "execution_count": 25,
   "metadata": {
    "collapsed": false
   },
   "outputs": [
    {
     "name": "stdout",
     "output_type": "stream",
     "text": [
      "[[ 1.  0.  0.  0.]\n",
      " [ 0.  1.  0.  0.]\n",
      " [ 0.  0.  1.  0.]\n",
      " [ 0.  0.  0.  1.]]\n",
      "[ 1.00e+00  0.00e+00  0.00e+00  0.00e+00]\n",
      "[ 0.00e+00  1.00e+00  0.00e+00  0.00e+00]\n",
      "[ 0.00e+00  0.00e+00  1.00e+00  0.00e+00]\n",
      "[ 0.00e+00  0.00e+00  0.00e+00  1.00e+00]\n",
      "\n"
     ]
    },
    {
     "data": {
      "text/plain": [
       "array([[ 1.,  0.,  0.,  0.,  1.,  0.,  0.,  0.],\n",
       "       [ 0.,  1.,  0.,  0.,  0.,  1.,  0.,  0.],\n",
       "       [ 0.,  0.,  1.,  0.,  0.,  0.,  1.,  0.],\n",
       "       [ 0.,  0.,  0.,  1.,  0.,  0.,  0.,  1.]])"
      ]
     },
     "execution_count": 25,
     "metadata": {},
     "output_type": "execute_result"
    }
   ],
   "source": [
    "h = matrix(0, (4,1))\n",
    "P = np.eye(4,4)\n",
    "print(P)\n",
    "Pm = matrix(P)\n",
    "print(Pm)\n",
    "Q = P\n",
    "R = np.hstack((P, Q))\n",
    "R"
   ]
  },
  {
   "cell_type": "code",
   "execution_count": 49,
   "metadata": {
    "collapsed": false
   },
   "outputs": [
    {
     "data": {
      "text/plain": [
       "[1, 2, 3, 4]"
      ]
     },
     "execution_count": 49,
     "metadata": {},
     "output_type": "execute_result"
    }
   ],
   "source": [
    "list(range(1,5))"
   ]
  },
  {
   "cell_type": "code",
   "execution_count": 52,
   "metadata": {
    "collapsed": false
   },
   "outputs": [
    {
     "name": "stdout",
     "output_type": "stream",
     "text": [
      "[0, 1, 2, 3]\n"
     ]
    },
    {
     "ename": "IndexError",
     "evalue": "index 8 is out of bounds for axis 0 with size 8",
     "output_type": "error",
     "traceback": [
      "\u001b[0;31m---------------------------------------------------------------------------\u001b[0m",
      "\u001b[0;31mIndexError\u001b[0m                                Traceback (most recent call last)",
      "\u001b[0;32m<ipython-input-52-8f6163590817>\u001b[0m in \u001b[0;36m<module>\u001b[0;34m()\u001b[0m\n\u001b[1;32m      5\u001b[0m \u001b[0mprint\u001b[0m\u001b[0;34m(\u001b[0m\u001b[0mlist\u001b[0m\u001b[0;34m(\u001b[0m\u001b[0mrange\u001b[0m\u001b[0;34m(\u001b[0m\u001b[0md\u001b[0m\u001b[0;34m*\u001b[0m\u001b[0mL\u001b[0m\u001b[0;34m)\u001b[0m\u001b[0;34m)\u001b[0m\u001b[0;34m)\u001b[0m\u001b[0;34m\u001b[0m\u001b[0m\n\u001b[1;32m      6\u001b[0m \u001b[0mp\u001b[0m\u001b[0;34m[\u001b[0m\u001b[0;34m[\u001b[0m\u001b[0mi_c\u001b[0m\u001b[0;34m+\u001b[0m \u001b[0mx\u001b[0m \u001b[0;32mfor\u001b[0m \u001b[0mx\u001b[0m \u001b[0;32min\u001b[0m \u001b[0mrange\u001b[0m\u001b[0;34m(\u001b[0m\u001b[0md\u001b[0m\u001b[0;34m*\u001b[0m\u001b[0mL\u001b[0m\u001b[0;34m)\u001b[0m\u001b[0;34m]\u001b[0m\u001b[0;34m]\u001b[0m\u001b[0;34m\u001b[0m\u001b[0m\n\u001b[0;32m----> 7\u001b[0;31m \u001b[0mp\u001b[0m\u001b[0;34m[\u001b[0m\u001b[0mrange\u001b[0m\u001b[0;34m(\u001b[0m\u001b[0mi_c\u001b[0m\u001b[0;34m+\u001b[0m\u001b[0mk\u001b[0m\u001b[0;34m*\u001b[0m\u001b[0;34m(\u001b[0m\u001b[0md\u001b[0m\u001b[0;34m**\u001b[0m\u001b[0;36m2\u001b[0m\u001b[0;34m)\u001b[0m\u001b[0;34m,\u001b[0m\u001b[0mi_c\u001b[0m\u001b[0;34m+\u001b[0m\u001b[0;34m(\u001b[0m\u001b[0mk\u001b[0m\u001b[0;34m+\u001b[0m\u001b[0;36m1\u001b[0m\u001b[0;34m)\u001b[0m\u001b[0;34m*\u001b[0m\u001b[0;34m(\u001b[0m\u001b[0md\u001b[0m\u001b[0;34m**\u001b[0m\u001b[0;36m2\u001b[0m\u001b[0;34m)\u001b[0m\u001b[0;34m-\u001b[0m\u001b[0;36m1\u001b[0m\u001b[0;34m)\u001b[0m\u001b[0;34m]\u001b[0m\u001b[0;34m\u001b[0m\u001b[0m\n\u001b[0m",
      "\u001b[0;31mIndexError\u001b[0m: index 8 is out of bounds for axis 0 with size 8"
     ]
    }
   ],
   "source": [
    "i_c = 0\n",
    "k = 0\n",
    "d, L = 4, 1\n",
    "p = np.eye(d*2)\n",
    "print(list(range(d*L)))\n",
    "p[[i_c+ x for x in range(d*L)]]\n",
    "p[range(i_c+k*(d**2),i_c+(k+1)*(d**2)-1)]"
   ]
  },
  {
   "cell_type": "code",
   "execution_count": 61,
   "metadata": {
    "collapsed": false
   },
   "outputs": [],
   "source": [
    "lengthScaleMatrix = np.random.randn(2,2)\n",
    "tempMat = np.random.randn(2,2)\n",
    "d = lengthScaleMatrix.dot((tempMat * tempMat.T)).dot(lengthScaleMatrix)"
   ]
  },
  {
   "cell_type": "code",
   "execution_count": 66,
   "metadata": {
    "collapsed": false
   },
   "outputs": [
    {
     "name": "stdout",
     "output_type": "stream",
     "text": [
      "(2,) (2, 2, 2)\n",
      "[[[ 1.  1.]\n",
      "  [ 1.  1.]]\n",
      "\n",
      " [[ 1.  1.]\n",
      "  [ 1.  1.]]]\n"
     ]
    },
    {
     "ename": "NameError",
     "evalue": "name 'sp' is not defined",
     "output_type": "error",
     "traceback": [
      "\u001b[0;31m---------------------------------------------------------------------------\u001b[0m",
      "\u001b[0;31mNameError\u001b[0m                                 Traceback (most recent call last)",
      "\u001b[0;32m<ipython-input-66-bac6677bde8b>\u001b[0m in \u001b[0;36m<module>\u001b[0;34m()\u001b[0m\n\u001b[1;32m      4\u001b[0m \u001b[0mres\u001b[0m \u001b[0;34m=\u001b[0m \u001b[0mfir\u001b[0m \u001b[0;34m*\u001b[0m \u001b[0mls\u001b[0m\u001b[0;34m\u001b[0m\u001b[0m\n\u001b[1;32m      5\u001b[0m \u001b[0mprint\u001b[0m\u001b[0;34m(\u001b[0m\u001b[0mres\u001b[0m\u001b[0;34m)\u001b[0m\u001b[0;34m\u001b[0m\u001b[0m\n\u001b[0;32m----> 6\u001b[0;31m \u001b[0msp\u001b[0m\u001b[0;34m.\u001b[0m\u001b[0meye\u001b[0m\u001b[0;34m(\u001b[0m\u001b[0;36m4\u001b[0m\u001b[0;34m)\u001b[0m\u001b[0;34m\u001b[0m\u001b[0m\n\u001b[0m",
      "\u001b[0;31mNameError\u001b[0m: name 'sp' is not defined"
     ]
    }
   ],
   "source": [
    "ls= np.ones((2))\n",
    "fir = np.ones((2,2, 2))\n",
    "print(ls.shape, fir.shape)\n",
    "res = fir * ls\n",
    "print(res)\n",
    "sp.eye(4)"
   ]
  },
  {
   "cell_type": "code",
   "execution_count": 102,
   "metadata": {
    "collapsed": false
   },
   "outputs": [
    {
     "ename": "ValueError",
     "evalue": "all the input array dimensions except for the concatenation axis must match exactly",
     "output_type": "error",
     "traceback": [
      "\u001b[0;31m---------------------------------------------------------------------------\u001b[0m",
      "\u001b[0;31mValueError\u001b[0m                                Traceback (most recent call last)",
      "\u001b[0;32m<ipython-input-102-ec77b7e16710>\u001b[0m in \u001b[0;36m<module>\u001b[0;34m()\u001b[0m\n\u001b[1;32m      2\u001b[0m \u001b[0mAr\u001b[0m \u001b[0;34m=\u001b[0m \u001b[0mnp\u001b[0m\u001b[0;34m.\u001b[0m\u001b[0mexpand_dims\u001b[0m\u001b[0;34m(\u001b[0m\u001b[0mnp\u001b[0m\u001b[0;34m.\u001b[0m\u001b[0mravel\u001b[0m\u001b[0;34m(\u001b[0m\u001b[0mA\u001b[0m\u001b[0;34m)\u001b[0m\u001b[0;34m,\u001b[0m \u001b[0maxis\u001b[0m\u001b[0;34m=\u001b[0m\u001b[0;36m1\u001b[0m\u001b[0;34m)\u001b[0m\u001b[0;34m\u001b[0m\u001b[0m\n\u001b[1;32m      3\u001b[0m \u001b[0mAf\u001b[0m \u001b[0;34m=\u001b[0m \u001b[0mA\u001b[0m\u001b[0;34m.\u001b[0m\u001b[0mflatten\u001b[0m\u001b[0;34m(\u001b[0m\u001b[0;34m'C'\u001b[0m\u001b[0;34m)\u001b[0m\u001b[0;34m\u001b[0m\u001b[0m\n\u001b[0;32m----> 4\u001b[0;31m \u001b[0mc\u001b[0m \u001b[0;34m=\u001b[0m \u001b[0mnp\u001b[0m\u001b[0;34m.\u001b[0m\u001b[0mc_\u001b[0m\u001b[0;34m[\u001b[0m\u001b[0mA\u001b[0m\u001b[0;34m.\u001b[0m\u001b[0mflatten\u001b[0m\u001b[0;34m(\u001b[0m\u001b[0;34m)\u001b[0m\u001b[0;34m,\u001b[0m \u001b[0;34m[\u001b[0m\u001b[0;36m5\u001b[0m\u001b[0;34m,\u001b[0m \u001b[0;36m6\u001b[0m\u001b[0;34m]\u001b[0m\u001b[0;34m,\u001b[0m \u001b[0mAf\u001b[0m\u001b[0;34m]\u001b[0m\u001b[0;34m\u001b[0m\u001b[0m\n\u001b[0m\u001b[1;32m      5\u001b[0m \u001b[0mprint\u001b[0m\u001b[0;34m(\u001b[0m\u001b[0mc\u001b[0m\u001b[0;34m)\u001b[0m\u001b[0;34m\u001b[0m\u001b[0m\n",
      "\u001b[0;32m/home/lex/anaconda3/lib/python3.6/site-packages/numpy/lib/index_tricks.py\u001b[0m in \u001b[0;36m__getitem__\u001b[0;34m(self, key)\u001b[0m\n\u001b[1;32m    336\u001b[0m                 \u001b[0mobjs\u001b[0m\u001b[0;34m[\u001b[0m\u001b[0mk\u001b[0m\u001b[0;34m]\u001b[0m \u001b[0;34m=\u001b[0m \u001b[0mobjs\u001b[0m\u001b[0;34m[\u001b[0m\u001b[0mk\u001b[0m\u001b[0;34m]\u001b[0m\u001b[0;34m.\u001b[0m\u001b[0mastype\u001b[0m\u001b[0;34m(\u001b[0m\u001b[0mfinal_dtype\u001b[0m\u001b[0;34m)\u001b[0m\u001b[0;34m\u001b[0m\u001b[0m\n\u001b[1;32m    337\u001b[0m \u001b[0;34m\u001b[0m\u001b[0m\n\u001b[0;32m--> 338\u001b[0;31m         \u001b[0mres\u001b[0m \u001b[0;34m=\u001b[0m \u001b[0m_nx\u001b[0m\u001b[0;34m.\u001b[0m\u001b[0mconcatenate\u001b[0m\u001b[0;34m(\u001b[0m\u001b[0mtuple\u001b[0m\u001b[0;34m(\u001b[0m\u001b[0mobjs\u001b[0m\u001b[0;34m)\u001b[0m\u001b[0;34m,\u001b[0m \u001b[0maxis\u001b[0m\u001b[0;34m=\u001b[0m\u001b[0mself\u001b[0m\u001b[0;34m.\u001b[0m\u001b[0maxis\u001b[0m\u001b[0;34m)\u001b[0m\u001b[0;34m\u001b[0m\u001b[0m\n\u001b[0m\u001b[1;32m    339\u001b[0m         \u001b[0;32mreturn\u001b[0m \u001b[0mself\u001b[0m\u001b[0;34m.\u001b[0m\u001b[0m_retval\u001b[0m\u001b[0;34m(\u001b[0m\u001b[0mres\u001b[0m\u001b[0;34m)\u001b[0m\u001b[0;34m\u001b[0m\u001b[0m\n\u001b[1;32m    340\u001b[0m \u001b[0;34m\u001b[0m\u001b[0m\n",
      "\u001b[0;31mValueError\u001b[0m: all the input array dimensions except for the concatenation axis must match exactly"
     ]
    }
   ],
   "source": [
    "A = np.ones((2,2))\n",
    "Ar = np.expand_dims(np.ravel(A), axis=1)\n",
    "Af = A.flatten('C')\n",
    "c = np.c_[A.flatten(), [5, 6], Af]\n",
    "print(c)"
   ]
  },
  {
   "cell_type": "code",
   "execution_count": 95,
   "metadata": {
    "collapsed": false
   },
   "outputs": [
    {
     "name": "stdout",
     "output_type": "stream",
     "text": [
      "Help on RClass in module numpy.lib.index_tricks object:\n",
      "\n",
      "class RClass(AxisConcatenator)\n",
      " |  Translates slice objects to concatenation along the first axis.\n",
      " |  \n",
      " |  This is a simple way to build up arrays quickly. There are two use cases.\n",
      " |  \n",
      " |  1. If the index expression contains comma separated arrays, then stack\n",
      " |     them along their first axis.\n",
      " |  2. If the index expression contains slice notation or scalars then create\n",
      " |     a 1-D array with a range indicated by the slice notation.\n",
      " |  \n",
      " |  If slice notation is used, the syntax ``start:stop:step`` is equivalent\n",
      " |  to ``np.arange(start, stop, step)`` inside of the brackets. However, if\n",
      " |  ``step`` is an imaginary number (i.e. 100j) then its integer portion is\n",
      " |  interpreted as a number-of-points desired and the start and stop are\n",
      " |  inclusive. In other words ``start:stop:stepj`` is interpreted as\n",
      " |  ``np.linspace(start, stop, step, endpoint=1)`` inside of the brackets.\n",
      " |  After expansion of slice notation, all comma separated sequences are\n",
      " |  concatenated together.\n",
      " |  \n",
      " |  Optional character strings placed as the first element of the index\n",
      " |  expression can be used to change the output. The strings 'r' or 'c' result\n",
      " |  in matrix output. If the result is 1-D and 'r' is specified a 1 x N (row)\n",
      " |  matrix is produced. If the result is 1-D and 'c' is specified, then a N x 1\n",
      " |  (column) matrix is produced. If the result is 2-D then both provide the\n",
      " |  same matrix result.\n",
      " |  \n",
      " |  A string integer specifies which axis to stack multiple comma separated\n",
      " |  arrays along. A string of two comma-separated integers allows indication\n",
      " |  of the minimum number of dimensions to force each entry into as the\n",
      " |  second integer (the axis to concatenate along is still the first integer).\n",
      " |  \n",
      " |  A string with three comma-separated integers allows specification of the\n",
      " |  axis to concatenate along, the minimum number of dimensions to force the\n",
      " |  entries to, and which axis should contain the start of the arrays which\n",
      " |  are less than the specified number of dimensions. In other words the third\n",
      " |  integer allows you to specify where the 1's should be placed in the shape\n",
      " |  of the arrays that have their shapes upgraded. By default, they are placed\n",
      " |  in the front of the shape tuple. The third argument allows you to specify\n",
      " |  where the start of the array should be instead. Thus, a third argument of\n",
      " |  '0' would place the 1's at the end of the array shape. Negative integers\n",
      " |  specify where in the new shape tuple the last dimension of upgraded arrays\n",
      " |  should be placed, so the default is '-1'.\n",
      " |  \n",
      " |  Parameters\n",
      " |  ----------\n",
      " |  Not a function, so takes no parameters\n",
      " |  \n",
      " |  \n",
      " |  Returns\n",
      " |  -------\n",
      " |  A concatenated ndarray or matrix.\n",
      " |  \n",
      " |  See Also\n",
      " |  --------\n",
      " |  concatenate : Join a sequence of arrays along an existing axis.\n",
      " |  c_ : Translates slice objects to concatenation along the second axis.\n",
      " |  \n",
      " |  Examples\n",
      " |  --------\n",
      " |  >>> np.r_[np.array([1,2,3]), 0, 0, np.array([4,5,6])]\n",
      " |  array([1, 2, 3, 0, 0, 4, 5, 6])\n",
      " |  >>> np.r_[-1:1:6j, [0]*3, 5, 6]\n",
      " |  array([-1. , -0.6, -0.2,  0.2,  0.6,  1. ,  0. ,  0. ,  0. ,  5. ,  6. ])\n",
      " |  \n",
      " |  String integers specify the axis to concatenate along or the minimum\n",
      " |  number of dimensions to force entries into.\n",
      " |  \n",
      " |  >>> a = np.array([[0, 1, 2], [3, 4, 5]])\n",
      " |  >>> np.r_['-1', a, a] # concatenate along last axis\n",
      " |  array([[0, 1, 2, 0, 1, 2],\n",
      " |         [3, 4, 5, 3, 4, 5]])\n",
      " |  >>> np.r_['0,2', [1,2,3], [4,5,6]] # concatenate along first axis, dim>=2\n",
      " |  array([[1, 2, 3],\n",
      " |         [4, 5, 6]])\n",
      " |  \n",
      " |  >>> np.r_['0,2,0', [1,2,3], [4,5,6]]\n",
      " |  array([[1],\n",
      " |         [2],\n",
      " |         [3],\n",
      " |         [4],\n",
      " |         [5],\n",
      " |         [6]])\n",
      " |  >>> np.r_['1,2,0', [1,2,3], [4,5,6]]\n",
      " |  array([[1, 4],\n",
      " |         [2, 5],\n",
      " |         [3, 6]])\n",
      " |  \n",
      " |  Using 'r' or 'c' as a first string argument creates a matrix.\n",
      " |  \n",
      " |  >>> np.r_['r',[1,2,3], [4,5,6]]\n",
      " |  matrix([[1, 2, 3, 4, 5, 6]])\n",
      " |  \n",
      " |  Method resolution order:\n",
      " |      RClass\n",
      " |      AxisConcatenator\n",
      " |      builtins.object\n",
      " |  \n",
      " |  Methods defined here:\n",
      " |  \n",
      " |  __init__(self)\n",
      " |      Initialize self.  See help(type(self)) for accurate signature.\n",
      " |  \n",
      " |  ----------------------------------------------------------------------\n",
      " |  Methods inherited from AxisConcatenator:\n",
      " |  \n",
      " |  __getitem__(self, key)\n",
      " |  \n",
      " |  __getslice__(self, i, j)\n",
      " |  \n",
      " |  __len__(self)\n",
      " |  \n",
      " |  ----------------------------------------------------------------------\n",
      " |  Data descriptors inherited from AxisConcatenator:\n",
      " |  \n",
      " |  __dict__\n",
      " |      dictionary for instance variables (if defined)\n",
      " |  \n",
      " |  __weakref__\n",
      " |      list of weak references to the object (if defined)\n",
      "\n"
     ]
    }
   ],
   "source": [
    "import scipy as sp\n",
    "help(np.r_)"
   ]
  },
  {
   "cell_type": "code",
   "execution_count": 103,
   "metadata": {
    "collapsed": false
   },
   "outputs": [
    {
     "name": "stdout",
     "output_type": "stream",
     "text": [
      "[ 0.5  0.5]\n",
      "0\n"
     ]
    }
   ],
   "source": [
    "lamb = np.array([ 1.+0.j,  1.+0.j])/2\n",
    "opt = 0.1\n",
    "print(lamb.real)\n",
    "from inspect import currentframe, getframeinfo\n",
    "\n",
    "frameinfo = getframeinfo(currentframe())\n",
    "\n",
    "# print(frameinfo.filename, frameinfo.lineno)\n",
    "for x in range(1):\n",
    "    print(x)"
   ]
  },
  {
   "cell_type": "code",
   "execution_count": 9,
   "metadata": {
    "collapsed": false
   },
   "outputs": [
    {
     "data": {
      "text/plain": [
       "array([[0, 1, 2]])"
      ]
     },
     "execution_count": 9,
     "metadata": {},
     "output_type": "execute_result"
    }
   ],
   "source": [
    "import numpy as np\n",
    "a = np.array((range(9))).reshape(3,3)\n",
    "b = np.array((range(3)))\n",
    "a[b==0]\n",
    "# print((b).shape)"
   ]
  },
  {
   "cell_type": "code",
   "execution_count": null,
   "metadata": {
    "collapsed": true
   },
   "outputs": [],
   "source": []
  }
 ],
 "metadata": {
  "kernelspec": {
   "display_name": "Python 3",
   "language": "python",
   "name": "python3"
  },
  "language_info": {
   "codemirror_mode": {
    "name": "ipython",
    "version": 3
   },
   "file_extension": ".py",
   "mimetype": "text/x-python",
   "name": "python",
   "nbconvert_exporter": "python",
   "pygments_lexer": "ipython3",
   "version": "3.6.0"
  }
 },
 "nbformat": 4,
 "nbformat_minor": 2
}
