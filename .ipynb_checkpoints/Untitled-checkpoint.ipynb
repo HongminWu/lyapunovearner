{
 "cells": [
  {
   "cell_type": "code",
   "execution_count": 63,
   "metadata": {},
   "outputs": [
    {
     "name": "stdout",
     "output_type": "stream",
     "text": [
      "2\n",
      "(2, 2)\n",
      "('d', 2)\n",
      "('Priors', array([[ 0.65124965],\n",
      "       [ 0.5688405 ]]))\n",
      "('L', 1)\n",
      "('Mu', array([[[ -67.09895441, -126.7303979 ],\n",
      "        [ -14.99380456,  -28.31893335]],\n",
      "\n",
      "       [[ -26.72423093,  -50.47429501],\n",
      "        [ -14.27909677,  -26.96905833]]]))\n",
      "('P', array([[[  1.43716186e+03,   1.43681662e+03],\n",
      "        [  6.30515634e-03,  -1.99112769e-01]],\n",
      "\n",
      "       [[  6.30515634e-03,  -1.99112769e-01],\n",
      "        [  1.83486353e+04,   1.79097573e+04]]]))\n",
      "('w', 0.0001)\n"
     ]
    }
   ],
   "source": [
    "import sys\n",
    "import math\n",
    "import numpy as np\n",
    "import argparse\n",
    "import scipy.io as sio\n",
    "import scipy.linalg as spla\n",
    "\n",
    "from config import Vxf0, Options\n",
    "\n",
    "# path imports\n",
    "sys.path.insert(0, \"CLFM_lib\")\n",
    "sys.path.insert(1, \"GMR_lib\")\n",
    "\n",
    "def loadSavedMatFile(x):\n",
    "    matFile = sio.loadmat(x)\n",
    "\n",
    "    # print(matFile)\n",
    "    data = matFile['Data']\n",
    "    demoIdx = matFile['demoIndices']\n",
    "\n",
    "    return data, demoIdx\n",
    "\n",
    "def guess_init(data, Vxf0):\n",
    "    pass\n",
    "\n",
    "modelNames = ['w.mat', 'Sshape.mat']   # Two example models provided by Khansari\n",
    "modelNumber = 1  # could be zero or one depending on the experiment the user is running\n",
    "\n",
    "data, demoIdx = loadSavedMatFile('ExampleModels/' + modelNames[modelNumber])\n",
    "\n",
    "Vxf0['L'] = modelNumber\n",
    "Vxf0['d'] = int(data.shape[0]/2)\n",
    "Vxf0['Mu'] =  np.empty([2, 2, 2])\n",
    "Vxf0['P'] =  np.empty([2,2,2])\n",
    "temp = np.transpose(data[0:Vxf0['d'],:])\n",
    "tempvar = np.var(temp, axis=0)\n",
    "lengthScale = np.sqrt(tempvar)\n",
    "tempcov = np.cov(temp, rowvar=False)\n",
    "lengthScaleMatrix = spla.sqrtm(tempcov)\n",
    "\n",
    "Vxf0['Priors'] = np.random.rand(Vxf0['L']+1,1);\n",
    "# print('demoIdx: ', demoIdx)\n",
    "# print(Vxf0['d'], data.shape[0])\n",
    "# print(temp.shape)\n",
    "# print(tempvar)\n",
    "# print(tempcov)\n",
    "# print (Vxf0['Priors'])\n",
    "print(Vxf0['d'])\n",
    "print((np.random.randn(Vxf0['d'],1)*lengthScale).shape)\n",
    "for l in range(Vxf0['L']+1):\n",
    "    tempMat = np.random.randn(Vxf0['d'], Vxf0['d'])\n",
    "    Vxf0['Mu'][:,l] = np.random.randn(Vxf0['d'],1)*lengthScale\n",
    "    Vxf0['P'][:,:,l] = lengthScaleMatrix * (tempMat * np.transpose(tempMat)) * lengthScaleMatrix\n",
    "\n",
    "for k,v in Vxf0.items():\n",
    "    print(k,v)"
   ]
  },
  {
   "cell_type": "code",
   "execution_count": 58,
   "metadata": {},
   "outputs": [],
   "source": [
    "Vxf0['Priors'] = np.ones((Vxf0['L']+1, 1))\n",
    "Vxf0['Priors'] = Vxf0['Priors']/sum(Vxf0['Priors'])\n",
    "Vxf0['Mu'] = np.zeros((Vxf0['d'],Vxf0['L']+1))\n",
    "for l in range(Vxf0['L']+1):\n",
    "    Vxf0['P'][:,:,l] = np.eye((Vxf0['d']))"
   ]
  },
  {
   "cell_type": "code",
   "execution_count": 66,
   "metadata": {},
   "outputs": [
    {
     "data": {
      "text/plain": [
       "array([[ 1.,  0.],\n",
       "       [ 0.,  1.]])"
      ]
     },
     "execution_count": 66,
     "metadata": {},
     "output_type": "execute_result"
    }
   ],
   "source": [
    "np.eye((Vxf0['d']))"
   ]
  },
  {
   "cell_type": "code",
   "execution_count": 69,
   "metadata": {},
   "outputs": [
    {
     "name": "stdout",
     "output_type": "stream",
     "text": [
      "[[[[ 0.]]\n",
      "\n",
      "  [[ 0.]]]\n",
      "\n",
      "\n",
      " [[[ 0.]]\n",
      "\n",
      "  [[ 0.]]]]\n"
     ]
    }
   ],
   "source": [
    "Vxf0['P']   =  np.empty([ Vxf0['d'], Vxf0['d'], Vxf0['L'], Vxf0['L']  ])\n",
    "a = np.array(())\n",
    "print(Vxf0['P'])"
   ]
  },
  {
   "cell_type": "code",
   "execution_count": null,
   "metadata": {
    "collapsed": true
   },
   "outputs": [],
   "source": []
  }
 ],
 "metadata": {
  "kernelspec": {
   "display_name": "Python 2",
   "language": "python",
   "name": "python2"
  },
  "language_info": {
   "codemirror_mode": {
    "name": "ipython",
    "version": 2
   },
   "file_extension": ".py",
   "mimetype": "text/x-python",
   "name": "python",
   "nbconvert_exporter": "python",
   "pygments_lexer": "ipython2",
   "version": "2.7.13"
  }
 },
 "nbformat": 4,
 "nbformat_minor": 2
}
