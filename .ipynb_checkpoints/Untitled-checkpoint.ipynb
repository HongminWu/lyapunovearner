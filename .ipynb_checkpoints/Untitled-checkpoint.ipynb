{
 "cells": [
  {
   "cell_type": "code",
   "execution_count": 1,
   "metadata": {},
   "outputs": [
    {
     "ename": "ImportError",
     "evalue": "No module named 'robsvm'",
     "output_type": "error",
     "traceback": [
      "\u001b[0;31m---------------------------------------------------------------------------\u001b[0m",
      "\u001b[0;31mImportError\u001b[0m                               Traceback (most recent call last)",
      "\u001b[0;32m<ipython-input-1-c78a466b114e>\u001b[0m in \u001b[0;36m<module>\u001b[0;34m()\u001b[0m\n\u001b[0;32m----> 1\u001b[0;31m \u001b[0;32mfrom\u001b[0m \u001b[0mrobsvm\u001b[0m \u001b[0;32mimport\u001b[0m \u001b[0mrobsvm\u001b[0m\u001b[0;34m\u001b[0m\u001b[0m\n\u001b[0m\u001b[1;32m      2\u001b[0m \u001b[0;32mfrom\u001b[0m \u001b[0mcvxopt\u001b[0m \u001b[0;32mimport\u001b[0m \u001b[0mmatrix\u001b[0m\u001b[0;34m,\u001b[0m \u001b[0mnormal\u001b[0m\u001b[0;34m,\u001b[0m \u001b[0muniform\u001b[0m\u001b[0;34m\u001b[0m\u001b[0m\n\u001b[1;32m      3\u001b[0m \u001b[0;34m\u001b[0m\u001b[0m\n\u001b[1;32m      4\u001b[0m \u001b[0;31m# parameters\u001b[0m\u001b[0;34m\u001b[0m\u001b[0;34m\u001b[0m\u001b[0m\n\u001b[1;32m      5\u001b[0m \u001b[0mm\u001b[0m\u001b[0;34m,\u001b[0m \u001b[0mn\u001b[0m \u001b[0;34m=\u001b[0m \u001b[0;36m60\u001b[0m\u001b[0;34m,\u001b[0m \u001b[0;36m2\u001b[0m\u001b[0;34m\u001b[0m\u001b[0m\n",
      "\u001b[0;31mImportError\u001b[0m: No module named 'robsvm'"
     ]
    }
   ],
   "source": [
    "from robsvm import robsvm\n",
    "from cvxopt import matrix, normal, uniform\n",
    "\n",
    "# parameters\n",
    "m, n = 60, 2\n",
    "gamma = 10.0\n",
    "\n",
    "# generate random problem data\n",
    "X = 2.0*uniform(m,n)-1.0\n",
    "d = matrix(1,(m,1))\n",
    "\n",
    "# generate noisy labels\n",
    "w0 = matrix([2.0,1.0])+normal(2,1); b0 = 0.4\n",
    "z = 0.2*normal(m,1)\n",
    "for i in range(m):\n",
    "    if (X[i,:]*w0)[0] + b0 < z[i]: d[i] = -1\n",
    "\n",
    "# generate uncertainty ellipsoids\n",
    "k = 2\n",
    "P = [0.1*normal(4*n,n) for i in range(k)]\n",
    "P = [ p.T*p for p in P]\n",
    "e = matrix(0,(m,1))\n",
    "for i in xrange(m):\n",
    "    if d[i] == -1: e[i] = 1\n",
    "\n",
    "# solve SVM training problem\n",
    "w, b, u, v, iterations = robsvm(X, d, gamma, P, e)"
   ]
  },
  {
   "cell_type": "code",
   "execution_count": 8,
   "metadata": {},
   "outputs": [
    {
     "name": "stdout",
     "output_type": "stream",
     "text": [
      "<class 'scipy.sparse.base.spmatrix'>\n"
     ]
    }
   ],
   "source": [
    "from scipy.sparse import csr_matrix, csc_matrix, spmatrix\n",
    "Ac = csc_matrix([[1, 2, 0], [0, 0, 3], [4, 0, 5]])\n",
    "Ar = csr_matrix([[1, 2, 0], [0, 0, 3], [4, 0, 5]])\n",
    "Ab = spmatrix([1,0,2], [0,0,0], [2,5,8])\n",
    "print(Ab)\n",
    "# print(Ar)"
   ]
  },
  {
   "cell_type": "code",
   "execution_count": 24,
   "metadata": {},
   "outputs": [
    {
     "name": "stdout",
     "output_type": "stream",
     "text": [
      "[[ 1.  1.  1.]\n",
      " [ 1.  1.  1.]\n",
      " [ 1.  1.  1.]]\n",
      "1.0\n"
     ]
    }
   ],
   "source": [
    "import scipy.sparse as spp\n",
    "import numpy as np\n",
    "a = spp.eye(3)\n",
    "print(np.ones((3,3)))\n",
    "b = spp.csr_matrix(np.ones((3,3)))\n",
    "print(np.floor(np.sqrt(2)))"
   ]
  },
  {
   "cell_type": "code",
   "execution_count": 28,
   "metadata": {},
   "outputs": [
    {
     "name": "stdout",
     "output_type": "stream",
     "text": [
      "<class 'dict'>\n",
      "it's a dict\n"
     ]
    }
   ],
   "source": [
    "dik = dict()\n",
    "# print(type(dik))\n",
    "if isinstance(dik, dict):\n",
    "    print('it\\'s a dict')"
   ]
  },
  {
   "cell_type": "code",
   "execution_count": null,
   "metadata": {
    "collapsed": true
   },
   "outputs": [],
   "source": []
  }
 ],
 "metadata": {
  "kernelspec": {
   "display_name": "Python 3",
   "language": "python",
   "name": "python3"
  },
  "language_info": {
   "codemirror_mode": {
    "name": "ipython",
    "version": 3
   },
   "file_extension": ".py",
   "mimetype": "text/x-python",
   "name": "python",
   "nbconvert_exporter": "python",
   "pygments_lexer": "ipython3",
   "version": "3.5.3"
  }
 },
 "nbformat": 4,
 "nbformat_minor": 2
}
