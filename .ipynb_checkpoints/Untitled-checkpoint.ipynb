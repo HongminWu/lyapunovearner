{
 "cells": [
  {
   "cell_type": "code",
   "execution_count": 11,
   "metadata": {
    "collapsed": false
   },
   "outputs": [
    {
     "name": "stdout",
     "output_type": "stream",
     "text": [
      "     pcost       dcost       gap    pres   dres\n",
      " 0:  0.0000e+00 -2.3600e+02  1e+01  1e+00  1e+00\n",
      " 1:  1.0839e-02 -1.2790e+02  1e+01  1e+00  1e+00\n",
      " 2:  5.2359e-02 -8.5348e+01  1e+01  9e-01  9e-01\n",
      " 3:  1.5625e-01 -6.1216e+01  9e+00  8e-01  8e-01\n",
      " 4:  4.4272e-01 -3.0923e+01  7e+00  6e-01  6e-01\n",
      " 5:  4.1644e-01 -1.6583e+01  6e+00  6e-01  6e-01\n",
      " 6:  4.3375e-01 -6.9342e+00  5e+00  5e-01  5e-01\n",
      " 7:  8.8733e-01  3.1296e+00  3e+00  4e-01  6e-01\n",
      " 8:  4.6153e-01 -2.4116e-01  2e+00  7e-02  2e-01\n",
      " 9:  8.9766e-02  1.4046e-01  6e-01  2e-02  6e-02\n",
      "10: -5.0304e-03  1.3097e-01  2e-01  6e-03  3e-02\n",
      "11: -1.8289e-02  5.6107e-02  3e-02  1e-03  1e-02\n",
      "12: -1.2314e-04  1.8978e-02  6e-03  3e-04  7e-03\n",
      "13:  8.3143e-04  5.4983e-03  1e-03  6e-05  3e-03\n",
      "14:  2.5859e-04  1.5244e-03  3e-04  2e-05  2e-03\n",
      "15:  6.8797e-05  4.1689e-04  8e-05  4e-06  9e-04\n",
      "16:  1.7614e-05  1.1319e-04  2e-05  1e-06  5e-04\n",
      "17:  4.4610e-06  3.0551e-05  5e-06  3e-07  3e-04\n",
      "18:  1.1261e-06  8.2042e-06  1e-06  8e-08  1e-04\n",
      "19:  2.8392e-07  2.1935e-06  3e-07  2e-08  7e-05\n",
      "20:  7.1549e-08  5.8419e-07  8e-08  6e-09  3e-05\n",
      "21:  1.8026e-08  1.5506e-07  2e-08  2e-09  2e-05\n",
      "22:  4.5405e-09  4.1031e-08  5e-09  4e-10  9e-06\n",
      "23:  1.1436e-09  1.0828e-08  1e-09  1e-10  5e-06\n",
      "24:  2.8798e-10  2.8505e-09  3e-10  3e-11  2e-06\n",
      "25:  7.2516e-11  7.4873e-10  8e-11  7e-12  1e-06\n",
      "26:  1.8259e-11  1.9627e-10  2e-11  2e-12  6e-07\n",
      "27:  4.5972e-12  5.1352e-11  5e-12  5e-13  3e-07\n",
      "28:  1.1574e-12  1.3413e-11  1e-12  1e-13  2e-07\n",
      "29:  2.9132e-13  3.4980e-12  3e-13  3e-14  8e-08\n",
      "Optimal solution found.\n",
      "[ 9.14e-07]\n",
      "[ 1.67e-06]\n",
      "[ 4.11e-07]\n",
      "\n"
     ]
    }
   ],
   "source": [
    "from cvxopt import matrix, log, div, spdiag, solvers\n",
    "\n",
    "def F(x = None, z = None):\n",
    "     if x is None:  return 0, matrix(0.0, (3,1))\n",
    "     if max(abs(x)) >= 1.0:  return None\n",
    "     u = 1 - x**2\n",
    "     val = -sum(log(u))\n",
    "     Df = div(2*x, u).T\n",
    "     if z is None:  return val, Df\n",
    "     H = spdiag(2 * z[0] * div(1 + u**2, u**2))\n",
    "     return val, Df, H\n",
    "\n",
    "G = matrix([ [0., -1.,  0.,  0., -21., -11.,   0., -11.,  10.,   8.,   0.,   8., 5.],\n",
    "             [0.,  0., -1.,  0.,   0.,  10.,  16.,  10., -10., -10.,  16., -10., 3.],\n",
    "             [0.,  0.,  0., -1.,  -5.,   2., -17.,   2.,  -6.,   8., -17.,  -7., 6.] ])\n",
    "h = matrix([1.0, 0.0, 0.0, 0.0, 20., 10., 40., 10., 80., 10., 40., 10., 15.])\n",
    "dims = {'l': 0, 'q': [4], 's':  [3]}\n",
    "sol = solvers.cp(F, G, h, dims)\n",
    "print(sol['x'])"
   ]
  },
  {
   "cell_type": "code",
   "execution_count": 8,
   "metadata": {
    "collapsed": false
   },
   "outputs": [
    {
     "data": {
      "text/plain": [
       "array([], dtype=float64)"
      ]
     },
     "execution_count": 8,
     "metadata": {},
     "output_type": "execute_result"
    }
   ],
   "source": [
    "import numpy as np\n",
    "V_k = np.sum(np.ones((4,4)),axis=0)\n",
    "V_k\n",
    "V_k[V_k < 0]"
   ]
  },
  {
   "cell_type": "code",
   "execution_count": null,
   "metadata": {
    "collapsed": true
   },
   "outputs": [],
   "source": [
    "h = matrix(0, (4,1))\n",
    "print"
   ]
  }
 ],
 "metadata": {
  "kernelspec": {
   "display_name": "Python 3",
   "language": "python",
   "name": "python3"
  },
  "language_info": {
   "codemirror_mode": {
    "name": "ipython",
    "version": 3
   },
   "file_extension": ".py",
   "mimetype": "text/x-python",
   "name": "python",
   "nbconvert_exporter": "python",
   "pygments_lexer": "ipython3",
   "version": "3.6.0"
  }
 },
 "nbformat": 4,
 "nbformat_minor": 2
}
